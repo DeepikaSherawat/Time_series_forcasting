{
 "cells": [
  {
   "cell_type": "code",
   "execution_count": 8,
   "id": "d7216ed9",
   "metadata": {},
   "outputs": [],
   "source": [
    "import pandas as pd\n",
    "import numpy as np\n",
    "import matplotlib.pyplot as plt\n",
    "import seaborn as sns\n",
    "sns.set()\n",
    "import warnings\n",
    "warnings.filterwarnings(\"ignore\")"
   ]
  },
  {
   "cell_type": "code",
   "execution_count": 9,
   "id": "c05d4529",
   "metadata": {},
   "outputs": [],
   "source": [
    "raw_csv_data=pd.read_csv(\"Index2018.csv\")"
   ]
  },
  {
   "cell_type": "code",
   "execution_count": 10,
   "id": "5e72d7e4",
   "metadata": {},
   "outputs": [
    {
     "data": {
      "text/html": [
       "<div>\n",
       "<style scoped>\n",
       "    .dataframe tbody tr th:only-of-type {\n",
       "        vertical-align: middle;\n",
       "    }\n",
       "\n",
       "    .dataframe tbody tr th {\n",
       "        vertical-align: top;\n",
       "    }\n",
       "\n",
       "    .dataframe thead th {\n",
       "        text-align: right;\n",
       "    }\n",
       "</style>\n",
       "<table border=\"1\" class=\"dataframe\">\n",
       "  <thead>\n",
       "    <tr style=\"text-align: right;\">\n",
       "      <th></th>\n",
       "      <th>date</th>\n",
       "      <th>spx</th>\n",
       "      <th>dax</th>\n",
       "      <th>ftse</th>\n",
       "      <th>nikkei</th>\n",
       "    </tr>\n",
       "  </thead>\n",
       "  <tbody>\n",
       "    <tr>\n",
       "      <th>0</th>\n",
       "      <td>07/01/1994</td>\n",
       "      <td>469.90</td>\n",
       "      <td>2224.95</td>\n",
       "      <td>3445.98</td>\n",
       "      <td>18124.01</td>\n",
       "    </tr>\n",
       "    <tr>\n",
       "      <th>1</th>\n",
       "      <td>10/01/1994</td>\n",
       "      <td>475.27</td>\n",
       "      <td>2225.00</td>\n",
       "      <td>3440.58</td>\n",
       "      <td>18443.44</td>\n",
       "    </tr>\n",
       "    <tr>\n",
       "      <th>2</th>\n",
       "      <td>11/01/1994</td>\n",
       "      <td>474.13</td>\n",
       "      <td>2228.10</td>\n",
       "      <td>3413.77</td>\n",
       "      <td>18485.25</td>\n",
       "    </tr>\n",
       "    <tr>\n",
       "      <th>3</th>\n",
       "      <td>12/01/1994</td>\n",
       "      <td>474.17</td>\n",
       "      <td>2182.06</td>\n",
       "      <td>3372.02</td>\n",
       "      <td>18793.88</td>\n",
       "    </tr>\n",
       "    <tr>\n",
       "      <th>4</th>\n",
       "      <td>13/01/1994</td>\n",
       "      <td>472.47</td>\n",
       "      <td>2142.37</td>\n",
       "      <td>3360.01</td>\n",
       "      <td>18577.26</td>\n",
       "    </tr>\n",
       "  </tbody>\n",
       "</table>\n",
       "</div>"
      ],
      "text/plain": [
       "         date     spx      dax     ftse    nikkei\n",
       "0  07/01/1994  469.90  2224.95  3445.98  18124.01\n",
       "1  10/01/1994  475.27  2225.00  3440.58  18443.44\n",
       "2  11/01/1994  474.13  2228.10  3413.77  18485.25\n",
       "3  12/01/1994  474.17  2182.06  3372.02  18793.88\n",
       "4  13/01/1994  472.47  2142.37  3360.01  18577.26"
      ]
     },
     "execution_count": 10,
     "metadata": {},
     "output_type": "execute_result"
    }
   ],
   "source": [
    "df_comp=raw_csv_data.copy()\n",
    "df_comp.head()"
   ]
  },
  {
   "cell_type": "code",
   "execution_count": 11,
   "id": "2d299fc1",
   "metadata": {},
   "outputs": [],
   "source": [
    "df_comp.date=pd.to_datetime(df_comp.date,dayfirst=True)\n",
    "df_comp.set_index(\"date\",inplace=True)\n",
    "df_comp=df_comp.asfreq(\"b\")\n",
    "df_comp=df_comp.fillna(method=\"ffill\") #fill the null values forward fill technique\n",
    "\n",
    "size=int(len(df_comp)*0.8)  #whatever dataset given we will take 1st 80% of that as training data\n",
    "df,df_test=df_comp.iloc[:size],df_comp.iloc[size:]\n",
    "df[\"market_value\"]=df_comp.ftse #we will take only ftse column and put it as market value\n",
    "#df.market_value.pct_change(1)\n",
    "del df_comp[\"spx\"]\n",
    "del df_comp[\"dax\"]\n",
    "del df_comp[\"ftse\"]\n",
    "del df_comp[\"nikkei\"]\n",
    "\n",
    "df[\"returns\"]=df.market_value.pct_change(1).mul(100) #pct change(1)show period that is 1 day in our case\n",
    "df=df.iloc[1:]"
   ]
  },
  {
   "cell_type": "code",
   "execution_count": 12,
   "id": "ca55eb0c",
   "metadata": {},
   "outputs": [
    {
     "data": {
      "text/html": [
       "<div>\n",
       "<style scoped>\n",
       "    .dataframe tbody tr th:only-of-type {\n",
       "        vertical-align: middle;\n",
       "    }\n",
       "\n",
       "    .dataframe tbody tr th {\n",
       "        vertical-align: top;\n",
       "    }\n",
       "\n",
       "    .dataframe thead th {\n",
       "        text-align: right;\n",
       "    }\n",
       "</style>\n",
       "<table border=\"1\" class=\"dataframe\">\n",
       "  <thead>\n",
       "    <tr style=\"text-align: right;\">\n",
       "      <th></th>\n",
       "      <th>spx</th>\n",
       "      <th>dax</th>\n",
       "      <th>ftse</th>\n",
       "      <th>nikkei</th>\n",
       "      <th>market_value</th>\n",
       "      <th>returns</th>\n",
       "    </tr>\n",
       "    <tr>\n",
       "      <th>date</th>\n",
       "      <th></th>\n",
       "      <th></th>\n",
       "      <th></th>\n",
       "      <th></th>\n",
       "      <th></th>\n",
       "      <th></th>\n",
       "    </tr>\n",
       "  </thead>\n",
       "  <tbody>\n",
       "    <tr>\n",
       "      <th>1994-01-10</th>\n",
       "      <td>475.27</td>\n",
       "      <td>2225.00</td>\n",
       "      <td>3440.58</td>\n",
       "      <td>18443.44</td>\n",
       "      <td>3440.58</td>\n",
       "      <td>-0.156704</td>\n",
       "    </tr>\n",
       "    <tr>\n",
       "      <th>1994-01-11</th>\n",
       "      <td>474.13</td>\n",
       "      <td>2228.10</td>\n",
       "      <td>3413.77</td>\n",
       "      <td>18485.25</td>\n",
       "      <td>3413.77</td>\n",
       "      <td>-0.779229</td>\n",
       "    </tr>\n",
       "    <tr>\n",
       "      <th>1994-01-12</th>\n",
       "      <td>474.17</td>\n",
       "      <td>2182.06</td>\n",
       "      <td>3372.02</td>\n",
       "      <td>18793.88</td>\n",
       "      <td>3372.02</td>\n",
       "      <td>-1.222988</td>\n",
       "    </tr>\n",
       "    <tr>\n",
       "      <th>1994-01-13</th>\n",
       "      <td>472.47</td>\n",
       "      <td>2142.37</td>\n",
       "      <td>3360.01</td>\n",
       "      <td>18577.26</td>\n",
       "      <td>3360.01</td>\n",
       "      <td>-0.356166</td>\n",
       "    </tr>\n",
       "    <tr>\n",
       "      <th>1994-01-14</th>\n",
       "      <td>474.91</td>\n",
       "      <td>2151.05</td>\n",
       "      <td>3400.56</td>\n",
       "      <td>18973.70</td>\n",
       "      <td>3400.56</td>\n",
       "      <td>1.206842</td>\n",
       "    </tr>\n",
       "  </tbody>\n",
       "</table>\n",
       "</div>"
      ],
      "text/plain": [
       "               spx      dax     ftse    nikkei  market_value   returns\n",
       "date                                                                  \n",
       "1994-01-10  475.27  2225.00  3440.58  18443.44       3440.58 -0.156704\n",
       "1994-01-11  474.13  2228.10  3413.77  18485.25       3413.77 -0.779229\n",
       "1994-01-12  474.17  2182.06  3372.02  18793.88       3372.02 -1.222988\n",
       "1994-01-13  472.47  2142.37  3360.01  18577.26       3360.01 -0.356166\n",
       "1994-01-14  474.91  2151.05  3400.56  18973.70       3400.56  1.206842"
      ]
     },
     "execution_count": 12,
     "metadata": {},
     "output_type": "execute_result"
    }
   ],
   "source": [
    "df.head()"
   ]
  },
  {
   "cell_type": "code",
   "execution_count": 13,
   "id": "2d4124e1",
   "metadata": {},
   "outputs": [
    {
     "data": {
      "text/plain": [
       "date\n",
       "1994-01-10   -0.156704\n",
       "1994-01-11   -0.779229\n",
       "1994-01-12   -1.222988\n",
       "1994-01-13   -0.356166\n",
       "1994-01-14    1.206842\n",
       "Freq: B, Name: returns, dtype: float64"
      ]
     },
     "execution_count": 13,
     "metadata": {},
     "output_type": "execute_result"
    }
   ],
   "source": [
    "df[\"returns\"].head() #here negative values shows loss and positive shows gain"
   ]
  },
  {
   "cell_type": "markdown",
   "id": "b782b506",
   "metadata": {},
   "source": [
    "# The DF_Test"
   ]
  },
  {
   "cell_type": "code",
   "execution_count": 14,
   "id": "c1ac2fc1",
   "metadata": {},
   "outputs": [],
   "source": [
    "from scipy.stats.distributions import chi2\n",
    "import statsmodels.tsa.stattools as sts"
   ]
  },
  {
   "cell_type": "code",
   "execution_count": 15,
   "id": "8a7f005f",
   "metadata": {},
   "outputs": [
    {
     "data": {
      "text/plain": [
       "(-12.770265719497258,\n",
       " 7.798058336037547e-24,\n",
       " 32,\n",
       " 4987,\n",
       " {'1%': -3.431661944885779,\n",
       "  '5%': -2.8621197374408225,\n",
       "  '10%': -2.5670785949998973},\n",
       " 15696.767245697501)"
      ]
     },
     "execution_count": 15,
     "metadata": {},
     "output_type": "execute_result"
    }
   ],
   "source": [
    "sts.adfuller(df.returns) #here p value is 7.798e-24 equal to zero than data is stationary"
   ]
  },
  {
   "cell_type": "markdown",
   "id": "0ad37273",
   "metadata": {},
   "source": [
    "# LLR"
   ]
  },
  {
   "cell_type": "code",
   "execution_count": 16,
   "id": "ee88c4c8",
   "metadata": {},
   "outputs": [],
   "source": [
    "def LLR_test(mod_1,mod_2,DF=1):\n",
    "    L1=mod_1.fit().llf\n",
    "    L2=mod_2.fit().llf\n",
    "    LR=(2*(L2-L1))\n",
    "    p=chi2.sf(LR,DF).round(3)\n",
    "    return p\n",
    "\n",
    "# this is the model to compare 2 model 1 and 2  from model 2 to 1 is there any significance improvement or not idf there is improvement we reject  null hypothysis"
   ]
  },
  {
   "cell_type": "code",
   "execution_count": 17,
   "id": "b22075e7",
   "metadata": {},
   "outputs": [],
   "source": [
    "import statsmodels.graphics.tsaplots as sgt"
   ]
  },
  {
   "cell_type": "markdown",
   "id": "0e13cb8e",
   "metadata": {},
   "source": [
    "# ACF and PACF for Returns"
   ]
  },
  {
   "cell_type": "code",
   "execution_count": 18,
   "id": "1d168555",
   "metadata": {},
   "outputs": [
    {
     "data": {
      "image/png": "[encoded data removed]",
      "text/plain": [
       "<Figure size 432x288 with 1 Axes>"
      ]
     },
     "metadata": {},
     "output_type": "display_data"
    }
   ],
   "source": [
    "sgt.plot_acf(df.returns,lags=40,zero=False)\n",
    "plt.title(\"ACF Returns\",size=24)\n",
    "plt.show()\n",
    "\n",
    "#here dark  region is +2se and -2se we will consider only those lags which is out  of this dark region"
   ]
  },
  {
   "cell_type": "code",
   "execution_count": 19,
   "id": "64f6f947",
   "metadata": {},
   "outputs": [
    {
     "data": {
      "image/png": "[encoded data removed]",
      "text/plain": [
       "<Figure size 432x288 with 1 Axes>"
      ]
     },
     "metadata": {},
     "output_type": "display_data"
    }
   ],
   "source": [
    "sgt.plot_pacf(df.returns,lags=40,zero=False,method=(\"ols\"))\n",
    "plt.title(\"PACF Returns\",size=24)\n",
    "plt.show()\n",
    "\n",
    "# 6 is regionable here best model is AR(5) or AR(6)"
   ]
  },
  {
   "cell_type": "code",
   "execution_count": 20,
   "id": "ad99c406",
   "metadata": {},
   "outputs": [],
   "source": [
    "from statsmodels.tsa.arima_model import ARMA"
   ]
  },
  {
   "cell_type": "markdown",
   "id": "198df8bc",
   "metadata": {},
   "source": [
    "# ARMA for Returns"
   ]
  },
  {
   "cell_type": "code",
   "execution_count": 22,
   "id": "2206cac4",
   "metadata": {},
   "outputs": [
    {
     "data": {
      "text/html": [
       "<table class=\"simpletable\">\n",
       "<caption>ARMA Model Results</caption>\n",
       "<tr>\n",
       "  <th>Dep. Variable:</th>   <td>market_value</td>   <th>  No. Observations:  </th>    <td>5020</td>   \n",
       "</tr>\n",
       "<tr>\n",
       "  <th>Model:</th>            <td>ARMA(6, 6)</td>    <th>  Log Likelihood     </th> <td>-27582.934</td>\n",
       "</tr>\n",
       "<tr>\n",
       "  <th>Method:</th>             <td>css-mle</td>     <th>  S.D. of innovations</th>   <td>58.855</td>  \n",
       "</tr>\n",
       "<tr>\n",
       "  <th>Date:</th>          <td>Wed, 06 Sep 2023</td> <th>  AIC                </th>  <td>55193.867</td>\n",
       "</tr>\n",
       "<tr>\n",
       "  <th>Time:</th>              <td>15:17:43</td>     <th>  BIC                </th>  <td>55285.164</td>\n",
       "</tr>\n",
       "<tr>\n",
       "  <th>Sample:</th>           <td>01-10-1994</td>    <th>  HQIC               </th>  <td>55225.859</td>\n",
       "</tr>\n",
       "<tr>\n",
       "  <th></th>                 <td>- 04-05-2013</td>   <th>                     </th>      <td> </td>    \n",
       "</tr>\n",
       "</table>\n",
       "<table class=\"simpletable\">\n",
       "<tr>\n",
       "           <td></td>             <th>coef</th>     <th>std err</th>      <th>z</th>      <th>P>|z|</th>  <th>[0.025</th>    <th>0.975]</th>  \n",
       "</tr>\n",
       "<tr>\n",
       "  <th>const</th>              <td> 5089.9795</td> <td>  568.732</td> <td>    8.950</td> <td> 0.000</td> <td> 3975.286</td> <td> 6204.673</td>\n",
       "</tr>\n",
       "<tr>\n",
       "  <th>ar.L1.market_value</th> <td>    1.9269</td> <td>    0.032</td> <td>   59.779</td> <td> 0.000</td> <td>    1.864</td> <td>    1.990</td>\n",
       "</tr>\n",
       "<tr>\n",
       "  <th>ar.L2.market_value</th> <td>   -1.7356</td> <td>    0.040</td> <td>  -43.305</td> <td> 0.000</td> <td>   -1.814</td> <td>   -1.657</td>\n",
       "</tr>\n",
       "<tr>\n",
       "  <th>ar.L3.market_value</th> <td>    1.2680</td> <td>    0.034</td> <td>   36.827</td> <td> 0.000</td> <td>    1.200</td> <td>    1.335</td>\n",
       "</tr>\n",
       "<tr>\n",
       "  <th>ar.L4.market_value</th> <td>   -0.2376</td> <td>    0.154</td> <td>   -1.541</td> <td> 0.123</td> <td>   -0.540</td> <td>    0.065</td>\n",
       "</tr>\n",
       "<tr>\n",
       "  <th>ar.L5.market_value</th> <td>   -0.4056</td> <td>    0.162</td> <td>   -2.511</td> <td> 0.012</td> <td>   -0.722</td> <td>   -0.089</td>\n",
       "</tr>\n",
       "<tr>\n",
       "  <th>ar.L6.market_value</th> <td>    0.1835</td> <td>    0.049</td> <td>    3.757</td> <td> 0.000</td> <td>    0.088</td> <td>    0.279</td>\n",
       "</tr>\n",
       "<tr>\n",
       "  <th>ma.L1.market_value</th> <td>   -0.9480</td> <td>    0.035</td> <td>  -26.973</td> <td> 0.000</td> <td>   -1.017</td> <td>   -0.879</td>\n",
       "</tr>\n",
       "<tr>\n",
       "  <th>ma.L2.market_value</th> <td>    0.7802</td> <td>    0.032</td> <td>   24.215</td> <td> 0.000</td> <td>    0.717</td> <td>    0.843</td>\n",
       "</tr>\n",
       "<tr>\n",
       "  <th>ma.L3.market_value</th> <td>   -0.5085</td> <td>    0.031</td> <td>  -16.317</td> <td> 0.000</td> <td>   -0.570</td> <td>   -0.447</td>\n",
       "</tr>\n",
       "<tr>\n",
       "  <th>ma.L4.market_value</th> <td>   -0.1560</td> <td>    0.155</td> <td>   -1.007</td> <td> 0.314</td> <td>   -0.460</td> <td>    0.148</td>\n",
       "</tr>\n",
       "<tr>\n",
       "  <th>ma.L5.market_value</th> <td>    0.0948</td> <td>    0.057</td> <td>    1.673</td> <td> 0.094</td> <td>   -0.016</td> <td>    0.206</td>\n",
       "</tr>\n",
       "<tr>\n",
       "  <th>ma.L6.market_value</th> <td>    0.0670</td> <td>    0.024</td> <td>    2.840</td> <td> 0.005</td> <td>    0.021</td> <td>    0.113</td>\n",
       "</tr>\n",
       "</table>\n",
       "<table class=\"simpletable\">\n",
       "<caption>Roots</caption>\n",
       "<tr>\n",
       "    <td></td>   <th>            Real</th>  <th>         Imaginary</th> <th>         Modulus</th>  <th>        Frequency</th>\n",
       "</tr>\n",
       "<tr>\n",
       "  <th>AR.1</th> <td>           0.0857</td> <td>          -1.0501j</td> <td>           1.0536</td> <td>          -0.2370</td>\n",
       "</tr>\n",
       "<tr>\n",
       "  <th>AR.2</th> <td>           0.0857</td> <td>          +1.0501j</td> <td>           1.0536</td> <td>           0.2370</td>\n",
       "</tr>\n",
       "<tr>\n",
       "  <th>AR.3</th> <td>          -2.0270</td> <td>          -0.0000j</td> <td>           2.0270</td> <td>          -0.5000</td>\n",
       "</tr>\n",
       "<tr>\n",
       "  <th>AR.4</th> <td>           1.0011</td> <td>          -0.0000j</td> <td>           1.0011</td> <td>          -0.0000</td>\n",
       "</tr>\n",
       "<tr>\n",
       "  <th>AR.5</th> <td>           1.5323</td> <td>          -0.2664j</td> <td>           1.5553</td> <td>          -0.0274</td>\n",
       "</tr>\n",
       "<tr>\n",
       "  <th>AR.6</th> <td>           1.5323</td> <td>          +0.2664j</td> <td>           1.5553</td> <td>           0.0274</td>\n",
       "</tr>\n",
       "<tr>\n",
       "  <th>MA.1</th> <td>           0.1028</td> <td>          -1.0611j</td> <td>           1.0661</td> <td>          -0.2346</td>\n",
       "</tr>\n",
       "<tr>\n",
       "  <th>MA.2</th> <td>           0.1028</td> <td>          +1.0611j</td> <td>           1.0661</td> <td>           0.2346</td>\n",
       "</tr>\n",
       "<tr>\n",
       "  <th>MA.3</th> <td>           1.3633</td> <td>          -0.2794j</td> <td>           1.3916</td> <td>          -0.0322</td>\n",
       "</tr>\n",
       "<tr>\n",
       "  <th>MA.4</th> <td>           1.3633</td> <td>          +0.2794j</td> <td>           1.3916</td> <td>           0.0322</td>\n",
       "</tr>\n",
       "<tr>\n",
       "  <th>MA.5</th> <td>          -2.1737</td> <td>          -1.4350j</td> <td>           2.6046</td> <td>          -0.4071</td>\n",
       "</tr>\n",
       "<tr>\n",
       "  <th>MA.6</th> <td>          -2.1737</td> <td>          +1.4350j</td> <td>           2.6046</td> <td>           0.4071</td>\n",
       "</tr>\n",
       "</table>"
      ],
      "text/plain": [
       "<class 'statsmodels.iolib.summary.Summary'>\n",
       "\"\"\"\n",
       "                              ARMA Model Results                              \n",
       "==============================================================================\n",
       "Dep. Variable:           market_value   No. Observations:                 5020\n",
       "Model:                     ARMA(6, 6)   Log Likelihood              -27582.934\n",
       "Method:                       css-mle   S.D. of innovations             58.855\n",
       "Date:                Wed, 06 Sep 2023   AIC                          55193.867\n",
       "Time:                        15:17:43   BIC                          55285.164\n",
       "Sample:                    01-10-1994   HQIC                         55225.859\n",
       "                         - 04-05-2013                                         \n",
       "======================================================================================\n",
       "                         coef    std err          z      P>|z|      [0.025      0.975]\n",
       "--------------------------------------------------------------------------------------\n",
       "const               5089.9795    568.732      8.950      0.000    3975.286    6204.673\n",
       "ar.L1.market_value     1.9269      0.032     59.779      0.000       1.864       1.990\n",
       "ar.L2.market_value    -1.7356      0.040    -43.305      0.000      -1.814      -1.657\n",
       "ar.L3.market_value     1.2680      0.034     36.827      0.000       1.200       1.335\n",
       "ar.L4.market_value    -0.2376      0.154     -1.541      0.123      -0.540       0.065\n",
       "ar.L5.market_value    -0.4056      0.162     -2.511      0.012      -0.722      -0.089\n",
       "ar.L6.market_value     0.1835      0.049      3.757      0.000       0.088       0.279\n",
       "ma.L1.market_value    -0.9480      0.035    -26.973      0.000      -1.017      -0.879\n",
       "ma.L2.market_value     0.7802      0.032     24.215      0.000       0.717       0.843\n",
       "ma.L3.market_value    -0.5085      0.031    -16.317      0.000      -0.570      -0.447\n",
       "ma.L4.market_value    -0.1560      0.155     -1.007      0.314      -0.460       0.148\n",
       "ma.L5.market_value     0.0948      0.057      1.673      0.094      -0.016       0.206\n",
       "ma.L6.market_value     0.0670      0.024      2.840      0.005       0.021       0.113\n",
       "                                    Roots                                    \n",
       "=============================================================================\n",
       "                  Real          Imaginary           Modulus         Frequency\n",
       "-----------------------------------------------------------------------------\n",
       "AR.1            0.0857           -1.0501j            1.0536           -0.2370\n",
       "AR.2            0.0857           +1.0501j            1.0536            0.2370\n",
       "AR.3           -2.0270           -0.0000j            2.0270           -0.5000\n",
       "AR.4            1.0011           -0.0000j            1.0011           -0.0000\n",
       "AR.5            1.5323           -0.2664j            1.5553           -0.0274\n",
       "AR.6            1.5323           +0.2664j            1.5553            0.0274\n",
       "MA.1            0.1028           -1.0611j            1.0661           -0.2346\n",
       "MA.2            0.1028           +1.0611j            1.0661            0.2346\n",
       "MA.3            1.3633           -0.2794j            1.3916           -0.0322\n",
       "MA.4            1.3633           +0.2794j            1.3916            0.0322\n",
       "MA.5           -2.1737           -1.4350j            2.6046           -0.4071\n",
       "MA.6           -2.1737           +1.4350j            2.6046            0.4071\n",
       "-----------------------------------------------------------------------------\n",
       "\"\"\""
      ]
     },
     "execution_count": 22,
     "metadata": {},
     "output_type": "execute_result"
    }
   ],
   "source": [
    "model_ar_6_ma_6=ARMA(df.market_value,order=(6,6))\n",
    "results_ar_6_ma_6=model_ar_6_ma_6.fit(start_ar_lags=11)\n",
    "results_ar_6_ma_6.summary()"
   ]
  },
  {
   "cell_type": "code",
   "execution_count": 23,
   "id": "e41b94b5",
   "metadata": {},
   "outputs": [
    {
     "data": {
      "text/html": [
       "<table class=\"simpletable\">\n",
       "<caption>ARMA Model Results</caption>\n",
       "<tr>\n",
       "  <th>Dep. Variable:</th>   <td>market_value</td>   <th>  No. Observations:  </th>    <td>5020</td>   \n",
       "</tr>\n",
       "<tr>\n",
       "  <th>Model:</th>            <td>ARMA(5, 6)</td>    <th>  Log Likelihood     </th> <td>-27582.864</td>\n",
       "</tr>\n",
       "<tr>\n",
       "  <th>Method:</th>             <td>css-mle</td>     <th>  S.D. of innovations</th>   <td>58.854</td>  \n",
       "</tr>\n",
       "<tr>\n",
       "  <th>Date:</th>          <td>Wed, 06 Sep 2023</td> <th>  AIC                </th>  <td>55191.728</td>\n",
       "</tr>\n",
       "<tr>\n",
       "  <th>Time:</th>              <td>15:19:56</td>     <th>  BIC                </th>  <td>55276.504</td>\n",
       "</tr>\n",
       "<tr>\n",
       "  <th>Sample:</th>           <td>01-10-1994</td>    <th>  HQIC               </th>  <td>55221.435</td>\n",
       "</tr>\n",
       "<tr>\n",
       "  <th></th>                 <td>- 04-05-2013</td>   <th>                     </th>      <td> </td>    \n",
       "</tr>\n",
       "</table>\n",
       "<table class=\"simpletable\">\n",
       "<tr>\n",
       "           <td></td>             <th>coef</th>     <th>std err</th>      <th>z</th>      <th>P>|z|</th>  <th>[0.025</th>    <th>0.975]</th>  \n",
       "</tr>\n",
       "<tr>\n",
       "  <th>const</th>              <td> 5089.9786</td> <td>  581.889</td> <td>    8.747</td> <td> 0.000</td> <td> 3949.498</td> <td> 6230.459</td>\n",
       "</tr>\n",
       "<tr>\n",
       "  <th>ar.L1.market_value</th> <td>    1.3589</td> <td>    0.177</td> <td>    7.693</td> <td> 0.000</td> <td>    1.013</td> <td>    1.705</td>\n",
       "</tr>\n",
       "<tr>\n",
       "  <th>ar.L2.market_value</th> <td>   -1.1294</td> <td>    0.236</td> <td>   -4.784</td> <td> 0.000</td> <td>   -1.592</td> <td>   -0.667</td>\n",
       "</tr>\n",
       "<tr>\n",
       "  <th>ar.L3.market_value</th> <td>    0.9151</td> <td>    0.228</td> <td>    4.020</td> <td> 0.000</td> <td>    0.469</td> <td>    1.361</td>\n",
       "</tr>\n",
       "<tr>\n",
       "  <th>ar.L4.market_value</th> <td>    0.0155</td> <td>    0.203</td> <td>    0.076</td> <td> 0.939</td> <td>   -0.382</td> <td>    0.413</td>\n",
       "</tr>\n",
       "<tr>\n",
       "  <th>ar.L5.market_value</th> <td>   -0.1613</td> <td>    0.119</td> <td>   -1.353</td> <td> 0.176</td> <td>   -0.395</td> <td>    0.072</td>\n",
       "</tr>\n",
       "<tr>\n",
       "  <th>ma.L1.market_value</th> <td>   -0.3801</td> <td>    0.177</td> <td>   -2.146</td> <td> 0.032</td> <td>   -0.727</td> <td>   -0.033</td>\n",
       "</tr>\n",
       "<tr>\n",
       "  <th>ma.L2.market_value</th> <td>    0.7294</td> <td>    0.125</td> <td>    5.840</td> <td> 0.000</td> <td>    0.485</td> <td>    0.974</td>\n",
       "</tr>\n",
       "<tr>\n",
       "  <th>ma.L3.market_value</th> <td>   -0.2201</td> <td>    0.152</td> <td>   -1.447</td> <td> 0.148</td> <td>   -0.518</td> <td>    0.078</td>\n",
       "</tr>\n",
       "<tr>\n",
       "  <th>ma.L4.market_value</th> <td>   -0.1387</td> <td>    0.114</td> <td>   -1.216</td> <td> 0.224</td> <td>   -0.362</td> <td>    0.085</td>\n",
       "</tr>\n",
       "<tr>\n",
       "  <th>ma.L5.market_value</th> <td>   -0.0879</td> <td>    0.017</td> <td>   -5.324</td> <td> 0.000</td> <td>   -0.120</td> <td>   -0.056</td>\n",
       "</tr>\n",
       "<tr>\n",
       "  <th>ma.L6.market_value</th> <td>    0.0266</td> <td>    0.023</td> <td>    1.133</td> <td> 0.257</td> <td>   -0.019</td> <td>    0.073</td>\n",
       "</tr>\n",
       "</table>\n",
       "<table class=\"simpletable\">\n",
       "<caption>Roots</caption>\n",
       "<tr>\n",
       "    <td></td>   <th>            Real</th>  <th>         Imaginary</th> <th>         Modulus</th>  <th>        Frequency</th>\n",
       "</tr>\n",
       "<tr>\n",
       "  <th>AR.1</th> <td>           0.0917</td> <td>          -1.0418j</td> <td>           1.0459</td> <td>          -0.2360</td>\n",
       "</tr>\n",
       "<tr>\n",
       "  <th>AR.2</th> <td>           0.0917</td> <td>          +1.0418j</td> <td>           1.0459</td> <td>           0.2360</td>\n",
       "</tr>\n",
       "<tr>\n",
       "  <th>AR.3</th> <td>           1.0010</td> <td>          -0.0000j</td> <td>           1.0010</td> <td>          -0.0000</td>\n",
       "</tr>\n",
       "<tr>\n",
       "  <th>AR.4</th> <td>           1.8969</td> <td>          -0.0000j</td> <td>           1.8969</td> <td>          -0.0000</td>\n",
       "</tr>\n",
       "<tr>\n",
       "  <th>AR.5</th> <td>          -2.9853</td> <td>          -0.0000j</td> <td>           2.9853</td> <td>          -0.5000</td>\n",
       "</tr>\n",
       "<tr>\n",
       "  <th>MA.1</th> <td>           0.1071</td> <td>          -1.0488j</td> <td>           1.0542</td> <td>          -0.2338</td>\n",
       "</tr>\n",
       "<tr>\n",
       "  <th>MA.2</th> <td>           0.1071</td> <td>          +1.0488j</td> <td>           1.0542</td> <td>           0.2338</td>\n",
       "</tr>\n",
       "<tr>\n",
       "  <th>MA.3</th> <td>          -1.5349</td> <td>          -1.5156j</td> <td>           2.1571</td> <td>          -0.3760</td>\n",
       "</tr>\n",
       "<tr>\n",
       "  <th>MA.4</th> <td>          -1.5349</td> <td>          +1.5156j</td> <td>           2.1571</td> <td>           0.3760</td>\n",
       "</tr>\n",
       "<tr>\n",
       "  <th>MA.5</th> <td>           1.5915</td> <td>          -0.0000j</td> <td>           1.5915</td> <td>          -0.0000</td>\n",
       "</tr>\n",
       "<tr>\n",
       "  <th>MA.6</th> <td>           4.5710</td> <td>          -0.0000j</td> <td>           4.5710</td> <td>          -0.0000</td>\n",
       "</tr>\n",
       "</table>"
      ],
      "text/plain": [
       "<class 'statsmodels.iolib.summary.Summary'>\n",
       "\"\"\"\n",
       "                              ARMA Model Results                              \n",
       "==============================================================================\n",
       "Dep. Variable:           market_value   No. Observations:                 5020\n",
       "Model:                     ARMA(5, 6)   Log Likelihood              -27582.864\n",
       "Method:                       css-mle   S.D. of innovations             58.854\n",
       "Date:                Wed, 06 Sep 2023   AIC                          55191.728\n",
       "Time:                        15:19:56   BIC                          55276.504\n",
       "Sample:                    01-10-1994   HQIC                         55221.435\n",
       "                         - 04-05-2013                                         \n",
       "======================================================================================\n",
       "                         coef    std err          z      P>|z|      [0.025      0.975]\n",
       "--------------------------------------------------------------------------------------\n",
       "const               5089.9786    581.889      8.747      0.000    3949.498    6230.459\n",
       "ar.L1.market_value     1.3589      0.177      7.693      0.000       1.013       1.705\n",
       "ar.L2.market_value    -1.1294      0.236     -4.784      0.000      -1.592      -0.667\n",
       "ar.L3.market_value     0.9151      0.228      4.020      0.000       0.469       1.361\n",
       "ar.L4.market_value     0.0155      0.203      0.076      0.939      -0.382       0.413\n",
       "ar.L5.market_value    -0.1613      0.119     -1.353      0.176      -0.395       0.072\n",
       "ma.L1.market_value    -0.3801      0.177     -2.146      0.032      -0.727      -0.033\n",
       "ma.L2.market_value     0.7294      0.125      5.840      0.000       0.485       0.974\n",
       "ma.L3.market_value    -0.2201      0.152     -1.447      0.148      -0.518       0.078\n",
       "ma.L4.market_value    -0.1387      0.114     -1.216      0.224      -0.362       0.085\n",
       "ma.L5.market_value    -0.0879      0.017     -5.324      0.000      -0.120      -0.056\n",
       "ma.L6.market_value     0.0266      0.023      1.133      0.257      -0.019       0.073\n",
       "                                    Roots                                    \n",
       "=============================================================================\n",
       "                  Real          Imaginary           Modulus         Frequency\n",
       "-----------------------------------------------------------------------------\n",
       "AR.1            0.0917           -1.0418j            1.0459           -0.2360\n",
       "AR.2            0.0917           +1.0418j            1.0459            0.2360\n",
       "AR.3            1.0010           -0.0000j            1.0010           -0.0000\n",
       "AR.4            1.8969           -0.0000j            1.8969           -0.0000\n",
       "AR.5           -2.9853           -0.0000j            2.9853           -0.5000\n",
       "MA.1            0.1071           -1.0488j            1.0542           -0.2338\n",
       "MA.2            0.1071           +1.0488j            1.0542            0.2338\n",
       "MA.3           -1.5349           -1.5156j            2.1571           -0.3760\n",
       "MA.4           -1.5349           +1.5156j            2.1571            0.3760\n",
       "MA.5            1.5915           -0.0000j            1.5915           -0.0000\n",
       "MA.6            4.5710           -0.0000j            4.5710           -0.0000\n",
       "-----------------------------------------------------------------------------\n",
       "\"\"\""
      ]
     },
     "execution_count": 23,
     "metadata": {},
     "output_type": "execute_result"
    }
   ],
   "source": [
    "model_ar_5_ma_6=ARMA(df.market_value,order=(5,6))\n",
    "results_ar_5_ma_6=model_ar_5_ma_6.fit(start_ar_lags=7)\n",
    "results_ar_5_ma_6.summary()"
   ]
  },
  {
   "cell_type": "code",
   "execution_count": 26,
   "id": "fbca8a0d",
   "metadata": {},
   "outputs": [
    {
     "name": "stdout",
     "output_type": "stream",
     "text": [
      "ARMA(5,6):  \t LL= -27582.864216696948  \t AIC= 55191.728433393895\n",
      "ARMA(6,6):  \t LL= -27582.933685595548  \t AIC= 55193.867371191096\n"
     ]
    }
   ],
   "source": [
    "print(\"ARMA(5,6):  \\t LL=\",results_ar_5_ma_6.llf,\" \\t AIC=\", results_ar_5_ma_6.aic)\n",
    "print(\"ARMA(6,6):  \\t LL=\",results_ar_6_ma_6.llf,\" \\t AIC=\", results_ar_6_ma_6.aic)\n",
    "\n",
    "AIC is smaller  is better"
   ]
  },
  {
   "cell_type": "code",
   "execution_count": 28,
   "id": "19a75a91",
   "metadata": {},
   "outputs": [
    {
     "data": {
      "image/png": "[encoded data removed]",
      "text/plain": [
       "<Figure size 432x288 with 1 Axes>"
      ]
     },
     "metadata": {},
     "output_type": "display_data"
    }
   ],
   "source": [
    "df[\"res_ar_5_ma_6\"]=results_ar_5_ma_6.resid\n",
    "sgt.plot_acf(df.res_ar_5_ma_6,zero=False,lags=40)\n",
    "plt.title(\"ACF of Residuals\",size=20)\n",
    "plt.show()"
   ]
  },
  {
   "cell_type": "code",
   "execution_count": 29,
   "id": "509df099",
   "metadata": {},
   "outputs": [],
   "source": [
    "#there is no correlation between residuals"
   ]
  },
  {
   "cell_type": "code",
   "execution_count": null,
   "id": "1d8c2aa5",
   "metadata": {},
   "outputs": [],
   "source": []
  }
 ],
 "metadata": {
  "kernelspec": {
   "display_name": "Python 3 (ipykernel)",
   "language": "python",
   "name": "python3"
  },
  "language_info": {
   "codemirror_mode": {
    "name": "ipython",
    "version": 3
   },
   "file_extension": ".py",
   "mimetype": "text/x-python",
   "name": "python",
   "nbconvert_exporter": "python",
   "pygments_lexer": "ipython3",
   "version": "3.11.4"
  }
 },
 "nbformat": 4,
 "nbformat_minor": 5
}
