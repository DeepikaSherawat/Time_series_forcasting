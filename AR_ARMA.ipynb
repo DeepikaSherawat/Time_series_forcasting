{
 "cells": [
  {
   "cell_type": "markdown",
   "id": "89935144",
   "metadata": {},
   "source": [
    "# Importing the relevent packages"
   ]
  },
  {
   "cell_type": "code",
   "execution_count": 1,
   "id": "869f37d9",
   "metadata": {},
   "outputs": [],
   "source": [
    "import pandas as pd\n",
    "import numpy as np\n",
    "import matplotlib.pyplot as plt\n",
    "import seaborn as sns\n",
    "sns.set()\n",
    "import warnings\n",
    "warnings.filterwarnings(\"ignore\")"
   ]
  },
  {
   "cell_type": "markdown",
   "id": "b2ac2129",
   "metadata": {},
   "source": [
    "## Importing the data and pre-processing"
   ]
  },
  {
   "cell_type": "code",
   "execution_count": 2,
   "id": "39cdf9dd",
   "metadata": {},
   "outputs": [],
   "source": [
    "raw_csv_data=pd.read_csv(\"Index2018.csv\")"
   ]
  },
  {
   "cell_type": "code",
   "execution_count": 3,
   "id": "46580635",
   "metadata": {},
   "outputs": [
    {
     "data": {
      "text/html": [
       "<div>\n",
       "<style scoped>\n",
       "    .dataframe tbody tr th:only-of-type {\n",
       "        vertical-align: middle;\n",
       "    }\n",
       "\n",
       "    .dataframe tbody tr th {\n",
       "        vertical-align: top;\n",
       "    }\n",
       "\n",
       "    .dataframe thead th {\n",
       "        text-align: right;\n",
       "    }\n",
       "</style>\n",
       "<table border=\"1\" class=\"dataframe\">\n",
       "  <thead>\n",
       "    <tr style=\"text-align: right;\">\n",
       "      <th></th>\n",
       "      <th>date</th>\n",
       "      <th>spx</th>\n",
       "      <th>dax</th>\n",
       "      <th>ftse</th>\n",
       "      <th>nikkei</th>\n",
       "    </tr>\n",
       "  </thead>\n",
       "  <tbody>\n",
       "    <tr>\n",
       "      <th>0</th>\n",
       "      <td>07/01/1994</td>\n",
       "      <td>469.90</td>\n",
       "      <td>2224.95</td>\n",
       "      <td>3445.98</td>\n",
       "      <td>18124.01</td>\n",
       "    </tr>\n",
       "    <tr>\n",
       "      <th>1</th>\n",
       "      <td>10/01/1994</td>\n",
       "      <td>475.27</td>\n",
       "      <td>2225.00</td>\n",
       "      <td>3440.58</td>\n",
       "      <td>18443.44</td>\n",
       "    </tr>\n",
       "    <tr>\n",
       "      <th>2</th>\n",
       "      <td>11/01/1994</td>\n",
       "      <td>474.13</td>\n",
       "      <td>2228.10</td>\n",
       "      <td>3413.77</td>\n",
       "      <td>18485.25</td>\n",
       "    </tr>\n",
       "    <tr>\n",
       "      <th>3</th>\n",
       "      <td>12/01/1994</td>\n",
       "      <td>474.17</td>\n",
       "      <td>2182.06</td>\n",
       "      <td>3372.02</td>\n",
       "      <td>18793.88</td>\n",
       "    </tr>\n",
       "    <tr>\n",
       "      <th>4</th>\n",
       "      <td>13/01/1994</td>\n",
       "      <td>472.47</td>\n",
       "      <td>2142.37</td>\n",
       "      <td>3360.01</td>\n",
       "      <td>18577.26</td>\n",
       "    </tr>\n",
       "  </tbody>\n",
       "</table>\n",
       "</div>"
      ],
      "text/plain": [
       "         date     spx      dax     ftse    nikkei\n",
       "0  07/01/1994  469.90  2224.95  3445.98  18124.01\n",
       "1  10/01/1994  475.27  2225.00  3440.58  18443.44\n",
       "2  11/01/1994  474.13  2228.10  3413.77  18485.25\n",
       "3  12/01/1994  474.17  2182.06  3372.02  18793.88\n",
       "4  13/01/1994  472.47  2142.37  3360.01  18577.26"
      ]
     },
     "execution_count": 3,
     "metadata": {},
     "output_type": "execute_result"
    }
   ],
   "source": [
    "df_comp=raw_csv_data.copy()\n",
    "df_comp.head()"
   ]
  },
  {
   "cell_type": "code",
   "execution_count": 5,
   "id": "16018d11",
   "metadata": {},
   "outputs": [],
   "source": [
    "df_comp.date=pd.to_datetime(df_comp.date,dayfirst=True)\n",
    "df_comp.set_index(\"date\",inplace=True)\n",
    "df_comp=df_comp.asfreq(\"b\")\n",
    "df_comp=df_comp.fillna(method=\"ffill\") #fill the null values forward fill technique\n",
    "\n",
    "size=int(len(df_comp)*0.8)  #whatever dataset given we will take 1st 80% of that as training data\n",
    "df,df_test=df_comp.iloc[:size],df_comp.iloc[size:]\n",
    "df[\"market_value\"]=df_comp.ftse #we will take only ftse column and put it as market value\n",
    "#df.market_value.pct_change(1)\n",
    "del df_comp[\"spx\"]\n",
    "del df_comp[\"dax\"]\n",
    "del df_comp[\"ftse\"]\n",
    "del df_comp[\"nikkei\"]\n",
    "\n",
    "df[\"returns\"]=df.market_value.pct_change(1).mul(100) #pct change(1)show period that is 1 day in our case\n",
    "df=df.iloc[1:]"
   ]
  },
  {
   "cell_type": "code",
   "execution_count": 7,
   "id": "3fedc700",
   "metadata": {},
   "outputs": [
    {
     "data": {
      "text/html": [
       "<div>\n",
       "<style scoped>\n",
       "    .dataframe tbody tr th:only-of-type {\n",
       "        vertical-align: middle;\n",
       "    }\n",
       "\n",
       "    .dataframe tbody tr th {\n",
       "        vertical-align: top;\n",
       "    }\n",
       "\n",
       "    .dataframe thead th {\n",
       "        text-align: right;\n",
       "    }\n",
       "</style>\n",
       "<table border=\"1\" class=\"dataframe\">\n",
       "  <thead>\n",
       "    <tr style=\"text-align: right;\">\n",
       "      <th></th>\n",
       "      <th>spx</th>\n",
       "      <th>dax</th>\n",
       "      <th>ftse</th>\n",
       "      <th>nikkei</th>\n",
       "      <th>market_value</th>\n",
       "      <th>returns</th>\n",
       "    </tr>\n",
       "    <tr>\n",
       "      <th>date</th>\n",
       "      <th></th>\n",
       "      <th></th>\n",
       "      <th></th>\n",
       "      <th></th>\n",
       "      <th></th>\n",
       "      <th></th>\n",
       "    </tr>\n",
       "  </thead>\n",
       "  <tbody>\n",
       "    <tr>\n",
       "      <th>1994-01-10</th>\n",
       "      <td>475.27</td>\n",
       "      <td>2225.00</td>\n",
       "      <td>3440.58</td>\n",
       "      <td>18443.44</td>\n",
       "      <td>3440.58</td>\n",
       "      <td>-0.156704</td>\n",
       "    </tr>\n",
       "    <tr>\n",
       "      <th>1994-01-11</th>\n",
       "      <td>474.13</td>\n",
       "      <td>2228.10</td>\n",
       "      <td>3413.77</td>\n",
       "      <td>18485.25</td>\n",
       "      <td>3413.77</td>\n",
       "      <td>-0.779229</td>\n",
       "    </tr>\n",
       "    <tr>\n",
       "      <th>1994-01-12</th>\n",
       "      <td>474.17</td>\n",
       "      <td>2182.06</td>\n",
       "      <td>3372.02</td>\n",
       "      <td>18793.88</td>\n",
       "      <td>3372.02</td>\n",
       "      <td>-1.222988</td>\n",
       "    </tr>\n",
       "    <tr>\n",
       "      <th>1994-01-13</th>\n",
       "      <td>472.47</td>\n",
       "      <td>2142.37</td>\n",
       "      <td>3360.01</td>\n",
       "      <td>18577.26</td>\n",
       "      <td>3360.01</td>\n",
       "      <td>-0.356166</td>\n",
       "    </tr>\n",
       "    <tr>\n",
       "      <th>1994-01-14</th>\n",
       "      <td>474.91</td>\n",
       "      <td>2151.05</td>\n",
       "      <td>3400.56</td>\n",
       "      <td>18973.70</td>\n",
       "      <td>3400.56</td>\n",
       "      <td>1.206842</td>\n",
       "    </tr>\n",
       "  </tbody>\n",
       "</table>\n",
       "</div>"
      ],
      "text/plain": [
       "               spx      dax     ftse    nikkei  market_value   returns\n",
       "date                                                                  \n",
       "1994-01-10  475.27  2225.00  3440.58  18443.44       3440.58 -0.156704\n",
       "1994-01-11  474.13  2228.10  3413.77  18485.25       3413.77 -0.779229\n",
       "1994-01-12  474.17  2182.06  3372.02  18793.88       3372.02 -1.222988\n",
       "1994-01-13  472.47  2142.37  3360.01  18577.26       3360.01 -0.356166\n",
       "1994-01-14  474.91  2151.05  3400.56  18973.70       3400.56  1.206842"
      ]
     },
     "execution_count": 7,
     "metadata": {},
     "output_type": "execute_result"
    }
   ],
   "source": [
    "df.head()"
   ]
  },
  {
   "cell_type": "code",
   "execution_count": 6,
   "id": "24cdec7c",
   "metadata": {},
   "outputs": [
    {
     "data": {
      "text/plain": [
       "date\n",
       "1994-01-10   -0.156704\n",
       "1994-01-11   -0.779229\n",
       "1994-01-12   -1.222988\n",
       "1994-01-13   -0.356166\n",
       "1994-01-14    1.206842\n",
       "Freq: B, Name: returns, dtype: float64"
      ]
     },
     "execution_count": 6,
     "metadata": {},
     "output_type": "execute_result"
    }
   ],
   "source": [
    "df[\"returns\"].head() #here negative values shows loss and positive shows gain"
   ]
  },
  {
   "cell_type": "markdown",
   "id": "e3657082",
   "metadata": {},
   "source": [
    "# The DF_Test"
   ]
  },
  {
   "cell_type": "markdown",
   "id": "689653a2",
   "metadata": {},
   "source": [
    "### Test for Stationarity "
   ]
  },
  {
   "cell_type": "code",
   "execution_count": 9,
   "id": "c588468b",
   "metadata": {},
   "outputs": [],
   "source": [
    "from scipy.stats.distributions import chi2\n",
    "import statsmodels.tsa.stattools as sts"
   ]
  },
  {
   "cell_type": "code",
   "execution_count": 10,
   "id": "7a2df205",
   "metadata": {},
   "outputs": [],
   "source": [
    "#df[\"returns\"]=df.market_values.pct_chage(1).mul(100)\n",
    "#df=df.iloc[1:]"
   ]
  },
  {
   "cell_type": "code",
   "execution_count": 11,
   "id": "70293169",
   "metadata": {},
   "outputs": [
    {
     "data": {
      "text/plain": [
       "(-12.770265719497258,\n",
       " 7.798058336037547e-24,\n",
       " 32,\n",
       " 4987,\n",
       " {'1%': -3.431661944885779,\n",
       "  '5%': -2.8621197374408225,\n",
       "  '10%': -2.5670785949998973},\n",
       " 15696.767245697501)"
      ]
     },
     "execution_count": 11,
     "metadata": {},
     "output_type": "execute_result"
    }
   ],
   "source": [
    "sts.adfuller(df.returns) #here p value is 7.798e-24 equal to zero than data is stationary"
   ]
  },
  {
   "cell_type": "markdown",
   "id": "3b8a98a9",
   "metadata": {},
   "source": [
    "# LLR"
   ]
  },
  {
   "cell_type": "code",
   "execution_count": 32,
   "id": "2287422f",
   "metadata": {},
   "outputs": [],
   "source": [
    "def LLR_test(mod_1,mod_2,DF=1):\n",
    "    L1=mod_1.fit().llf\n",
    "    L2=mod_2.fit().llf\n",
    "    LR=(2*(L2-L1))\n",
    "    p=chi2.sf(LR,DF).round(3)\n",
    "    return p\n",
    "\n",
    "# this is the model to compare 2 model 1 and 2  from model 2 to 1 is there any significance improvement or not idf there is improvement we reject  null hypothysis"
   ]
  },
  {
   "cell_type": "markdown",
   "id": "85ba1430",
   "metadata": {},
   "source": [
    "# ACF and PACF for Returns"
   ]
  },
  {
   "cell_type": "code",
   "execution_count": 13,
   "id": "b3475e2b",
   "metadata": {},
   "outputs": [],
   "source": [
    "import statsmodels.graphics.tsaplots as sgt"
   ]
  },
  {
   "cell_type": "code",
   "execution_count": 16,
   "id": "8f4d8307",
   "metadata": {},
   "outputs": [
    {
     "data": {
      "image/png": "[encoded data removed]",
      "text/plain": [
       "<Figure size 432x288 with 1 Axes>"
      ]
     },
     "metadata": {},
     "output_type": "display_data"
    }
   ],
   "source": [
    "sgt.plot_acf(df.returns,lags=40,zero=False)\n",
    "plt.title(\"ACF Returns\",size=24)\n",
    "plt.show()\n",
    "\n",
    "#here dark  region is +2se and -2se we will consider only those lags which is out  of this dark region"
   ]
  },
  {
   "cell_type": "code",
   "execution_count": 19,
   "id": "2c3e59e1",
   "metadata": {},
   "outputs": [
    {
     "data": {
      "image/png": "[encoded data removed]",
      "text/plain": [
       "<Figure size 432x288 with 1 Axes>"
      ]
     },
     "metadata": {},
     "output_type": "display_data"
    }
   ],
   "source": [
    "sgt.plot_pacf(df.returns,lags=40,zero=False,method=(\"ols\"))\n",
    "plt.title(\"PACF Returns\",size=24)\n",
    "plt.show()\n",
    "\n",
    "# 6 is regionable here best model is AR(5) or AR(6)"
   ]
  },
  {
   "cell_type": "code",
   "execution_count": 20,
   "id": "83032762",
   "metadata": {},
   "outputs": [],
   "source": [
    "from statsmodels.tsa.arima_model import ARMA"
   ]
  },
  {
   "cell_type": "markdown",
   "id": "3e2cb28c",
   "metadata": {},
   "source": [
    "# AR(1) for Returns"
   ]
  },
  {
   "cell_type": "code",
   "execution_count": 21,
   "id": "d0f062d6",
   "metadata": {},
   "outputs": [],
   "source": [
    "model_ar1=ARMA(df.returns,order=(1,0)) #here MA is zero so we are building AR(1) model"
   ]
  },
  {
   "cell_type": "code",
   "execution_count": 24,
   "id": "4e5f7455",
   "metadata": {},
   "outputs": [],
   "source": [
    "results_ar1=model_ar1.fit()"
   ]
  },
  {
   "cell_type": "code",
   "execution_count": 25,
   "id": "fa43a9bc",
   "metadata": {},
   "outputs": [
    {
     "data": {
      "text/html": [
       "<table class=\"simpletable\">\n",
       "<caption>ARMA Model Results</caption>\n",
       "<tr>\n",
       "  <th>Dep. Variable:</th>      <td>returns</td>     <th>  No. Observations:  </th>   <td>5020</td>   \n",
       "</tr>\n",
       "<tr>\n",
       "  <th>Model:</th>            <td>ARMA(1, 0)</td>    <th>  Log Likelihood     </th> <td>-7929.749</td>\n",
       "</tr>\n",
       "<tr>\n",
       "  <th>Method:</th>             <td>css-mle</td>     <th>  S.D. of innovations</th>   <td>1.174</td>  \n",
       "</tr>\n",
       "<tr>\n",
       "  <th>Date:</th>          <td>Wed, 06 Sep 2023</td> <th>  AIC                </th> <td>15865.497</td>\n",
       "</tr>\n",
       "<tr>\n",
       "  <th>Time:</th>              <td>14:27:02</td>     <th>  BIC                </th> <td>15885.061</td>\n",
       "</tr>\n",
       "<tr>\n",
       "  <th>Sample:</th>           <td>01-10-1994</td>    <th>  HQIC               </th> <td>15872.353</td>\n",
       "</tr>\n",
       "<tr>\n",
       "  <th></th>                 <td>- 04-05-2013</td>   <th>                     </th>     <td> </td>    \n",
       "</tr>\n",
       "</table>\n",
       "<table class=\"simpletable\">\n",
       "<tr>\n",
       "        <td></td>           <th>coef</th>     <th>std err</th>      <th>z</th>      <th>P>|z|</th>  <th>[0.025</th>    <th>0.975]</th>  \n",
       "</tr>\n",
       "<tr>\n",
       "  <th>const</th>         <td>    0.0188</td> <td>    0.016</td> <td>    1.159</td> <td> 0.247</td> <td>   -0.013</td> <td>    0.051</td>\n",
       "</tr>\n",
       "<tr>\n",
       "  <th>ar.L1.returns</th> <td>   -0.0230</td> <td>    0.014</td> <td>   -1.631</td> <td> 0.103</td> <td>   -0.051</td> <td>    0.005</td>\n",
       "</tr>\n",
       "</table>\n",
       "<table class=\"simpletable\">\n",
       "<caption>Roots</caption>\n",
       "<tr>\n",
       "    <td></td>   <th>            Real</th>  <th>         Imaginary</th> <th>         Modulus</th>  <th>        Frequency</th>\n",
       "</tr>\n",
       "<tr>\n",
       "  <th>AR.1</th> <td>         -43.4387</td> <td>          +0.0000j</td> <td>          43.4387</td> <td>           0.5000</td>\n",
       "</tr>\n",
       "</table>"
      ],
      "text/plain": [
       "<class 'statsmodels.iolib.summary.Summary'>\n",
       "\"\"\"\n",
       "                              ARMA Model Results                              \n",
       "==============================================================================\n",
       "Dep. Variable:                returns   No. Observations:                 5020\n",
       "Model:                     ARMA(1, 0)   Log Likelihood               -7929.749\n",
       "Method:                       css-mle   S.D. of innovations              1.174\n",
       "Date:                Wed, 06 Sep 2023   AIC                          15865.497\n",
       "Time:                        14:27:02   BIC                          15885.061\n",
       "Sample:                    01-10-1994   HQIC                         15872.353\n",
       "                         - 04-05-2013                                         \n",
       "=================================================================================\n",
       "                    coef    std err          z      P>|z|      [0.025      0.975]\n",
       "---------------------------------------------------------------------------------\n",
       "const             0.0188      0.016      1.159      0.247      -0.013       0.051\n",
       "ar.L1.returns    -0.0230      0.014     -1.631      0.103      -0.051       0.005\n",
       "                                    Roots                                    \n",
       "=============================================================================\n",
       "                  Real          Imaginary           Modulus         Frequency\n",
       "-----------------------------------------------------------------------------\n",
       "AR.1          -43.4387           +0.0000j           43.4387            0.5000\n",
       "-----------------------------------------------------------------------------\n",
       "\"\"\""
      ]
     },
     "execution_count": 25,
     "metadata": {},
     "output_type": "execute_result"
    }
   ],
   "source": [
    "results_ar1.summary()"
   ]
  },
  {
   "cell_type": "markdown",
   "id": "422c045a",
   "metadata": {},
   "source": [
    "# Higher_lag AR Models for Returns"
   ]
  },
  {
   "cell_type": "code",
   "execution_count": 26,
   "id": "566dcfe9",
   "metadata": {},
   "outputs": [
    {
     "data": {
      "text/html": [
       "<table class=\"simpletable\">\n",
       "<caption>ARMA Model Results</caption>\n",
       "<tr>\n",
       "  <th>Dep. Variable:</th>      <td>returns</td>     <th>  No. Observations:  </th>   <td>5020</td>   \n",
       "</tr>\n",
       "<tr>\n",
       "  <th>Model:</th>            <td>ARMA(2, 0)</td>    <th>  Log Likelihood     </th> <td>-7923.456</td>\n",
       "</tr>\n",
       "<tr>\n",
       "  <th>Method:</th>             <td>css-mle</td>     <th>  S.D. of innovations</th>   <td>1.173</td>  \n",
       "</tr>\n",
       "<tr>\n",
       "  <th>Date:</th>          <td>Wed, 06 Sep 2023</td> <th>  AIC                </th> <td>15854.911</td>\n",
       "</tr>\n",
       "<tr>\n",
       "  <th>Time:</th>              <td>14:32:34</td>     <th>  BIC                </th> <td>15880.996</td>\n",
       "</tr>\n",
       "<tr>\n",
       "  <th>Sample:</th>           <td>01-10-1994</td>    <th>  HQIC               </th> <td>15864.052</td>\n",
       "</tr>\n",
       "<tr>\n",
       "  <th></th>                 <td>- 04-05-2013</td>   <th>                     </th>     <td> </td>    \n",
       "</tr>\n",
       "</table>\n",
       "<table class=\"simpletable\">\n",
       "<tr>\n",
       "        <td></td>           <th>coef</th>     <th>std err</th>      <th>z</th>      <th>P>|z|</th>  <th>[0.025</th>    <th>0.975]</th>  \n",
       "</tr>\n",
       "<tr>\n",
       "  <th>const</th>         <td>    0.0188</td> <td>    0.015</td> <td>    1.220</td> <td> 0.222</td> <td>   -0.011</td> <td>    0.049</td>\n",
       "</tr>\n",
       "<tr>\n",
       "  <th>ar.L1.returns</th> <td>   -0.0242</td> <td>    0.014</td> <td>   -1.716</td> <td> 0.086</td> <td>   -0.052</td> <td>    0.003</td>\n",
       "</tr>\n",
       "<tr>\n",
       "  <th>ar.L2.returns</th> <td>   -0.0500</td> <td>    0.014</td> <td>   -3.550</td> <td> 0.000</td> <td>   -0.078</td> <td>   -0.022</td>\n",
       "</tr>\n",
       "</table>\n",
       "<table class=\"simpletable\">\n",
       "<caption>Roots</caption>\n",
       "<tr>\n",
       "    <td></td>   <th>            Real</th>  <th>         Imaginary</th> <th>         Modulus</th>  <th>        Frequency</th>\n",
       "</tr>\n",
       "<tr>\n",
       "  <th>AR.1</th> <td>          -0.2417</td> <td>          -4.4635j</td> <td>           4.4701</td> <td>          -0.2586</td>\n",
       "</tr>\n",
       "<tr>\n",
       "  <th>AR.2</th> <td>          -0.2417</td> <td>          +4.4635j</td> <td>           4.4701</td> <td>           0.2586</td>\n",
       "</tr>\n",
       "</table>"
      ],
      "text/plain": [
       "<class 'statsmodels.iolib.summary.Summary'>\n",
       "\"\"\"\n",
       "                              ARMA Model Results                              \n",
       "==============================================================================\n",
       "Dep. Variable:                returns   No. Observations:                 5020\n",
       "Model:                     ARMA(2, 0)   Log Likelihood               -7923.456\n",
       "Method:                       css-mle   S.D. of innovations              1.173\n",
       "Date:                Wed, 06 Sep 2023   AIC                          15854.911\n",
       "Time:                        14:32:34   BIC                          15880.996\n",
       "Sample:                    01-10-1994   HQIC                         15864.052\n",
       "                         - 04-05-2013                                         \n",
       "=================================================================================\n",
       "                    coef    std err          z      P>|z|      [0.025      0.975]\n",
       "---------------------------------------------------------------------------------\n",
       "const             0.0188      0.015      1.220      0.222      -0.011       0.049\n",
       "ar.L1.returns    -0.0242      0.014     -1.716      0.086      -0.052       0.003\n",
       "ar.L2.returns    -0.0500      0.014     -3.550      0.000      -0.078      -0.022\n",
       "                                    Roots                                    \n",
       "=============================================================================\n",
       "                  Real          Imaginary           Modulus         Frequency\n",
       "-----------------------------------------------------------------------------\n",
       "AR.1           -0.2417           -4.4635j            4.4701           -0.2586\n",
       "AR.2           -0.2417           +4.4635j            4.4701            0.2586\n",
       "-----------------------------------------------------------------------------\n",
       "\"\"\""
      ]
     },
     "execution_count": 26,
     "metadata": {},
     "output_type": "execute_result"
    }
   ],
   "source": [
    "model_ar2=ARMA(df.returns,order=(2,0))\n",
    "results_ar2=model_ar2.fit()\n",
    "results_ar2.summary()"
   ]
  },
  {
   "cell_type": "code",
   "execution_count": 33,
   "id": "19efd715",
   "metadata": {},
   "outputs": [
    {
     "data": {
      "text/plain": [
       "0.0"
      ]
     },
     "execution_count": 33,
     "metadata": {},
     "output_type": "execute_result"
    }
   ],
   "source": [
    "LLR_test(model_ar1,model_ar2)"
   ]
  },
  {
   "cell_type": "code",
   "execution_count": 34,
   "id": "1a9c452c",
   "metadata": {},
   "outputs": [
    {
     "data": {
      "text/html": [
       "<table class=\"simpletable\">\n",
       "<caption>ARMA Model Results</caption>\n",
       "<tr>\n",
       "  <th>Dep. Variable:</th>      <td>returns</td>     <th>  No. Observations:  </th>   <td>5020</td>   \n",
       "</tr>\n",
       "<tr>\n",
       "  <th>Model:</th>            <td>ARMA(3, 0)</td>    <th>  Log Likelihood     </th> <td>-7906.738</td>\n",
       "</tr>\n",
       "<tr>\n",
       "  <th>Method:</th>             <td>css-mle</td>     <th>  S.D. of innovations</th>   <td>1.169</td>  \n",
       "</tr>\n",
       "<tr>\n",
       "  <th>Date:</th>          <td>Wed, 06 Sep 2023</td> <th>  AIC                </th> <td>15823.477</td>\n",
       "</tr>\n",
       "<tr>\n",
       "  <th>Time:</th>              <td>14:35:36</td>     <th>  BIC                </th> <td>15856.083</td>\n",
       "</tr>\n",
       "<tr>\n",
       "  <th>Sample:</th>           <td>01-10-1994</td>    <th>  HQIC               </th> <td>15834.902</td>\n",
       "</tr>\n",
       "<tr>\n",
       "  <th></th>                 <td>- 04-05-2013</td>   <th>                     </th>     <td> </td>    \n",
       "</tr>\n",
       "</table>\n",
       "<table class=\"simpletable\">\n",
       "<tr>\n",
       "        <td></td>           <th>coef</th>     <th>std err</th>      <th>z</th>      <th>P>|z|</th>  <th>[0.025</th>    <th>0.975]</th>  \n",
       "</tr>\n",
       "<tr>\n",
       "  <th>const</th>         <td>    0.0189</td> <td>    0.014</td> <td>    1.330</td> <td> 0.184</td> <td>   -0.009</td> <td>    0.047</td>\n",
       "</tr>\n",
       "<tr>\n",
       "  <th>ar.L1.returns</th> <td>   -0.0283</td> <td>    0.014</td> <td>   -2.011</td> <td> 0.044</td> <td>   -0.056</td> <td>   -0.001</td>\n",
       "</tr>\n",
       "<tr>\n",
       "  <th>ar.L2.returns</th> <td>   -0.0521</td> <td>    0.014</td> <td>   -3.705</td> <td> 0.000</td> <td>   -0.080</td> <td>   -0.025</td>\n",
       "</tr>\n",
       "<tr>\n",
       "  <th>ar.L3.returns</th> <td>   -0.0815</td> <td>    0.014</td> <td>   -5.792</td> <td> 0.000</td> <td>   -0.109</td> <td>   -0.054</td>\n",
       "</tr>\n",
       "</table>\n",
       "<table class=\"simpletable\">\n",
       "<caption>Roots</caption>\n",
       "<tr>\n",
       "    <td></td>   <th>            Real</th>  <th>         Imaginary</th> <th>         Modulus</th>  <th>        Frequency</th>\n",
       "</tr>\n",
       "<tr>\n",
       "  <th>AR.1</th> <td>           0.9233</td> <td>          -2.0210j</td> <td>           2.2219</td> <td>          -0.1818</td>\n",
       "</tr>\n",
       "<tr>\n",
       "  <th>AR.2</th> <td>           0.9233</td> <td>          +2.0210j</td> <td>           2.2219</td> <td>           0.1818</td>\n",
       "</tr>\n",
       "<tr>\n",
       "  <th>AR.3</th> <td>          -2.4855</td> <td>          -0.0000j</td> <td>           2.4855</td> <td>          -0.5000</td>\n",
       "</tr>\n",
       "</table>"
      ],
      "text/plain": [
       "<class 'statsmodels.iolib.summary.Summary'>\n",
       "\"\"\"\n",
       "                              ARMA Model Results                              \n",
       "==============================================================================\n",
       "Dep. Variable:                returns   No. Observations:                 5020\n",
       "Model:                     ARMA(3, 0)   Log Likelihood               -7906.738\n",
       "Method:                       css-mle   S.D. of innovations              1.169\n",
       "Date:                Wed, 06 Sep 2023   AIC                          15823.477\n",
       "Time:                        14:35:36   BIC                          15856.083\n",
       "Sample:                    01-10-1994   HQIC                         15834.902\n",
       "                         - 04-05-2013                                         \n",
       "=================================================================================\n",
       "                    coef    std err          z      P>|z|      [0.025      0.975]\n",
       "---------------------------------------------------------------------------------\n",
       "const             0.0189      0.014      1.330      0.184      -0.009       0.047\n",
       "ar.L1.returns    -0.0283      0.014     -2.011      0.044      -0.056      -0.001\n",
       "ar.L2.returns    -0.0521      0.014     -3.705      0.000      -0.080      -0.025\n",
       "ar.L3.returns    -0.0815      0.014     -5.792      0.000      -0.109      -0.054\n",
       "                                    Roots                                    \n",
       "=============================================================================\n",
       "                  Real          Imaginary           Modulus         Frequency\n",
       "-----------------------------------------------------------------------------\n",
       "AR.1            0.9233           -2.0210j            2.2219           -0.1818\n",
       "AR.2            0.9233           +2.0210j            2.2219            0.1818\n",
       "AR.3           -2.4855           -0.0000j            2.4855           -0.5000\n",
       "-----------------------------------------------------------------------------\n",
       "\"\"\""
      ]
     },
     "execution_count": 34,
     "metadata": {},
     "output_type": "execute_result"
    }
   ],
   "source": [
    "model_ar3=ARMA(df.returns,order=(3,0))\n",
    "results_ar3=model_ar3.fit()\n",
    "results_ar3.summary()"
   ]
  },
  {
   "cell_type": "code",
   "execution_count": 35,
   "id": "4e665e9f",
   "metadata": {},
   "outputs": [
    {
     "data": {
      "text/plain": [
       "0.0"
      ]
     },
     "execution_count": 35,
     "metadata": {},
     "output_type": "execute_result"
    }
   ],
   "source": [
    "LLR_test(model_ar2,model_ar3)"
   ]
  },
  {
   "cell_type": "code",
   "execution_count": 36,
   "id": "9e51705a",
   "metadata": {},
   "outputs": [
    {
     "data": {
      "text/html": [
       "<table class=\"simpletable\">\n",
       "<caption>ARMA Model Results</caption>\n",
       "<tr>\n",
       "  <th>Dep. Variable:</th>      <td>returns</td>     <th>  No. Observations:  </th>   <td>5020</td>   \n",
       "</tr>\n",
       "<tr>\n",
       "  <th>Model:</th>            <td>ARMA(4, 0)</td>    <th>  Log Likelihood     </th> <td>-7901.330</td>\n",
       "</tr>\n",
       "<tr>\n",
       "  <th>Method:</th>             <td>css-mle</td>     <th>  S.D. of innovations</th>   <td>1.168</td>  \n",
       "</tr>\n",
       "<tr>\n",
       "  <th>Date:</th>          <td>Wed, 06 Sep 2023</td> <th>  AIC                </th> <td>15814.661</td>\n",
       "</tr>\n",
       "<tr>\n",
       "  <th>Time:</th>              <td>14:36:18</td>     <th>  BIC                </th> <td>15853.788</td>\n",
       "</tr>\n",
       "<tr>\n",
       "  <th>Sample:</th>           <td>01-10-1994</td>    <th>  HQIC               </th> <td>15828.371</td>\n",
       "</tr>\n",
       "<tr>\n",
       "  <th></th>                 <td>- 04-05-2013</td>   <th>                     </th>     <td> </td>    \n",
       "</tr>\n",
       "</table>\n",
       "<table class=\"simpletable\">\n",
       "<tr>\n",
       "        <td></td>           <th>coef</th>     <th>std err</th>      <th>z</th>      <th>P>|z|</th>  <th>[0.025</th>    <th>0.975]</th>  \n",
       "</tr>\n",
       "<tr>\n",
       "  <th>const</th>         <td>    0.0188</td> <td>    0.015</td> <td>    1.267</td> <td> 0.205</td> <td>   -0.010</td> <td>    0.048</td>\n",
       "</tr>\n",
       "<tr>\n",
       "  <th>ar.L1.returns</th> <td>   -0.0245</td> <td>    0.014</td> <td>   -1.739</td> <td> 0.082</td> <td>   -0.052</td> <td>    0.003</td>\n",
       "</tr>\n",
       "<tr>\n",
       "  <th>ar.L2.returns</th> <td>   -0.0496</td> <td>    0.014</td> <td>   -3.531</td> <td> 0.000</td> <td>   -0.077</td> <td>   -0.022</td>\n",
       "</tr>\n",
       "<tr>\n",
       "  <th>ar.L3.returns</th> <td>   -0.0802</td> <td>    0.014</td> <td>   -5.701</td> <td> 0.000</td> <td>   -0.108</td> <td>   -0.053</td>\n",
       "</tr>\n",
       "<tr>\n",
       "  <th>ar.L4.returns</th> <td>    0.0464</td> <td>    0.014</td> <td>    3.291</td> <td> 0.001</td> <td>    0.019</td> <td>    0.074</td>\n",
       "</tr>\n",
       "</table>\n",
       "<table class=\"simpletable\">\n",
       "<caption>Roots</caption>\n",
       "<tr>\n",
       "    <td></td>   <th>            Real</th>  <th>         Imaginary</th> <th>         Modulus</th>  <th>        Frequency</th>\n",
       "</tr>\n",
       "<tr>\n",
       "  <th>AR.1</th> <td>          -1.8888</td> <td>          -0.0000j</td> <td>           1.8888</td> <td>          -0.5000</td>\n",
       "</tr>\n",
       "<tr>\n",
       "  <th>AR.2</th> <td>           0.3231</td> <td>          -1.9331j</td> <td>           1.9599</td> <td>          -0.2236</td>\n",
       "</tr>\n",
       "<tr>\n",
       "  <th>AR.3</th> <td>           0.3231</td> <td>          +1.9331j</td> <td>           1.9599</td> <td>           0.2236</td>\n",
       "</tr>\n",
       "<tr>\n",
       "  <th>AR.4</th> <td>           2.9701</td> <td>          -0.0000j</td> <td>           2.9701</td> <td>          -0.0000</td>\n",
       "</tr>\n",
       "</table>"
      ],
      "text/plain": [
       "<class 'statsmodels.iolib.summary.Summary'>\n",
       "\"\"\"\n",
       "                              ARMA Model Results                              \n",
       "==============================================================================\n",
       "Dep. Variable:                returns   No. Observations:                 5020\n",
       "Model:                     ARMA(4, 0)   Log Likelihood               -7901.330\n",
       "Method:                       css-mle   S.D. of innovations              1.168\n",
       "Date:                Wed, 06 Sep 2023   AIC                          15814.661\n",
       "Time:                        14:36:18   BIC                          15853.788\n",
       "Sample:                    01-10-1994   HQIC                         15828.371\n",
       "                         - 04-05-2013                                         \n",
       "=================================================================================\n",
       "                    coef    std err          z      P>|z|      [0.025      0.975]\n",
       "---------------------------------------------------------------------------------\n",
       "const             0.0188      0.015      1.267      0.205      -0.010       0.048\n",
       "ar.L1.returns    -0.0245      0.014     -1.739      0.082      -0.052       0.003\n",
       "ar.L2.returns    -0.0496      0.014     -3.531      0.000      -0.077      -0.022\n",
       "ar.L3.returns    -0.0802      0.014     -5.701      0.000      -0.108      -0.053\n",
       "ar.L4.returns     0.0464      0.014      3.291      0.001       0.019       0.074\n",
       "                                    Roots                                    \n",
       "=============================================================================\n",
       "                  Real          Imaginary           Modulus         Frequency\n",
       "-----------------------------------------------------------------------------\n",
       "AR.1           -1.8888           -0.0000j            1.8888           -0.5000\n",
       "AR.2            0.3231           -1.9331j            1.9599           -0.2236\n",
       "AR.3            0.3231           +1.9331j            1.9599            0.2236\n",
       "AR.4            2.9701           -0.0000j            2.9701           -0.0000\n",
       "-----------------------------------------------------------------------------\n",
       "\"\"\""
      ]
     },
     "execution_count": 36,
     "metadata": {},
     "output_type": "execute_result"
    }
   ],
   "source": [
    "model_ar4=ARMA(df.returns,order=(4,0))\n",
    "results_ar4=model_ar4.fit()\n",
    "results_ar4.summary()"
   ]
  },
  {
   "cell_type": "code",
   "execution_count": 37,
   "id": "c9a66614",
   "metadata": {},
   "outputs": [
    {
     "data": {
      "text/plain": [
       "0.001"
      ]
     },
     "execution_count": 37,
     "metadata": {},
     "output_type": "execute_result"
    }
   ],
   "source": [
    "LLR_test(model_ar3,model_ar4)"
   ]
  },
  {
   "cell_type": "code",
   "execution_count": 38,
   "id": "6d07a5df",
   "metadata": {},
   "outputs": [
    {
     "data": {
      "text/html": [
       "<table class=\"simpletable\">\n",
       "<caption>ARMA Model Results</caption>\n",
       "<tr>\n",
       "  <th>Dep. Variable:</th>      <td>returns</td>     <th>  No. Observations:  </th>   <td>5020</td>   \n",
       "</tr>\n",
       "<tr>\n",
       "  <th>Model:</th>            <td>ARMA(5, 0)</td>    <th>  Log Likelihood     </th> <td>-7892.390</td>\n",
       "</tr>\n",
       "<tr>\n",
       "  <th>Method:</th>             <td>css-mle</td>     <th>  S.D. of innovations</th>   <td>1.166</td>  \n",
       "</tr>\n",
       "<tr>\n",
       "  <th>Date:</th>          <td>Wed, 06 Sep 2023</td> <th>  AIC                </th> <td>15798.779</td>\n",
       "</tr>\n",
       "<tr>\n",
       "  <th>Time:</th>              <td>14:37:05</td>     <th>  BIC                </th> <td>15844.428</td>\n",
       "</tr>\n",
       "<tr>\n",
       "  <th>Sample:</th>           <td>01-10-1994</td>    <th>  HQIC               </th> <td>15814.775</td>\n",
       "</tr>\n",
       "<tr>\n",
       "  <th></th>                 <td>- 04-05-2013</td>   <th>                     </th>     <td> </td>    \n",
       "</tr>\n",
       "</table>\n",
       "<table class=\"simpletable\">\n",
       "<tr>\n",
       "        <td></td>           <th>coef</th>     <th>std err</th>      <th>z</th>      <th>P>|z|</th>  <th>[0.025</th>    <th>0.975]</th>  \n",
       "</tr>\n",
       "<tr>\n",
       "  <th>const</th>         <td>    0.0189</td> <td>    0.014</td> <td>    1.348</td> <td> 0.178</td> <td>   -0.009</td> <td>    0.046</td>\n",
       "</tr>\n",
       "<tr>\n",
       "  <th>ar.L1.returns</th> <td>   -0.0217</td> <td>    0.014</td> <td>   -1.544</td> <td> 0.123</td> <td>   -0.049</td> <td>    0.006</td>\n",
       "</tr>\n",
       "<tr>\n",
       "  <th>ar.L2.returns</th> <td>   -0.0544</td> <td>    0.014</td> <td>   -3.865</td> <td> 0.000</td> <td>   -0.082</td> <td>   -0.027</td>\n",
       "</tr>\n",
       "<tr>\n",
       "  <th>ar.L3.returns</th> <td>   -0.0831</td> <td>    0.014</td> <td>   -5.914</td> <td> 0.000</td> <td>   -0.111</td> <td>   -0.056</td>\n",
       "</tr>\n",
       "<tr>\n",
       "  <th>ar.L4.returns</th> <td>    0.0449</td> <td>    0.014</td> <td>    3.190</td> <td> 0.001</td> <td>    0.017</td> <td>    0.073</td>\n",
       "</tr>\n",
       "<tr>\n",
       "  <th>ar.L5.returns</th> <td>   -0.0596</td> <td>    0.014</td> <td>   -4.232</td> <td> 0.000</td> <td>   -0.087</td> <td>   -0.032</td>\n",
       "</tr>\n",
       "</table>\n",
       "<table class=\"simpletable\">\n",
       "<caption>Roots</caption>\n",
       "<tr>\n",
       "    <td></td>   <th>            Real</th>  <th>         Imaginary</th> <th>         Modulus</th>  <th>        Frequency</th>\n",
       "</tr>\n",
       "<tr>\n",
       "  <th>AR.1</th> <td>          -1.5481</td> <td>          -0.0000j</td> <td>           1.5481</td> <td>          -0.5000</td>\n",
       "</tr>\n",
       "<tr>\n",
       "  <th>AR.2</th> <td>          -0.2860</td> <td>          -1.7252j</td> <td>           1.7487</td> <td>          -0.2761</td>\n",
       "</tr>\n",
       "<tr>\n",
       "  <th>AR.3</th> <td>          -0.2860</td> <td>          +1.7252j</td> <td>           1.7487</td> <td>           0.2761</td>\n",
       "</tr>\n",
       "<tr>\n",
       "  <th>AR.4</th> <td>           1.4366</td> <td>          -1.2157j</td> <td>           1.8819</td> <td>          -0.1118</td>\n",
       "</tr>\n",
       "<tr>\n",
       "  <th>AR.5</th> <td>           1.4366</td> <td>          +1.2157j</td> <td>           1.8819</td> <td>           0.1118</td>\n",
       "</tr>\n",
       "</table>"
      ],
      "text/plain": [
       "<class 'statsmodels.iolib.summary.Summary'>\n",
       "\"\"\"\n",
       "                              ARMA Model Results                              \n",
       "==============================================================================\n",
       "Dep. Variable:                returns   No. Observations:                 5020\n",
       "Model:                     ARMA(5, 0)   Log Likelihood               -7892.390\n",
       "Method:                       css-mle   S.D. of innovations              1.166\n",
       "Date:                Wed, 06 Sep 2023   AIC                          15798.779\n",
       "Time:                        14:37:05   BIC                          15844.428\n",
       "Sample:                    01-10-1994   HQIC                         15814.775\n",
       "                         - 04-05-2013                                         \n",
       "=================================================================================\n",
       "                    coef    std err          z      P>|z|      [0.025      0.975]\n",
       "---------------------------------------------------------------------------------\n",
       "const             0.0189      0.014      1.348      0.178      -0.009       0.046\n",
       "ar.L1.returns    -0.0217      0.014     -1.544      0.123      -0.049       0.006\n",
       "ar.L2.returns    -0.0544      0.014     -3.865      0.000      -0.082      -0.027\n",
       "ar.L3.returns    -0.0831      0.014     -5.914      0.000      -0.111      -0.056\n",
       "ar.L4.returns     0.0449      0.014      3.190      0.001       0.017       0.073\n",
       "ar.L5.returns    -0.0596      0.014     -4.232      0.000      -0.087      -0.032\n",
       "                                    Roots                                    \n",
       "=============================================================================\n",
       "                  Real          Imaginary           Modulus         Frequency\n",
       "-----------------------------------------------------------------------------\n",
       "AR.1           -1.5481           -0.0000j            1.5481           -0.5000\n",
       "AR.2           -0.2860           -1.7252j            1.7487           -0.2761\n",
       "AR.3           -0.2860           +1.7252j            1.7487            0.2761\n",
       "AR.4            1.4366           -1.2157j            1.8819           -0.1118\n",
       "AR.5            1.4366           +1.2157j            1.8819            0.1118\n",
       "-----------------------------------------------------------------------------\n",
       "\"\"\""
      ]
     },
     "execution_count": 38,
     "metadata": {},
     "output_type": "execute_result"
    }
   ],
   "source": [
    "model_ar5=ARMA(df.returns,order=(5,0))\n",
    "results_ar5=model_ar5.fit()\n",
    "results_ar5.summary()"
   ]
  },
  {
   "cell_type": "code",
   "execution_count": 39,
   "id": "8ce80e8d",
   "metadata": {},
   "outputs": [
    {
     "data": {
      "text/plain": [
       "0.0"
      ]
     },
     "execution_count": 39,
     "metadata": {},
     "output_type": "execute_result"
    }
   ],
   "source": [
    "LLR_test(model_ar4,model_ar5)"
   ]
  },
  {
   "cell_type": "code",
   "execution_count": 40,
   "id": "a28bbd4b",
   "metadata": {},
   "outputs": [
    {
     "data": {
      "text/html": [
       "<table class=\"simpletable\">\n",
       "<caption>ARMA Model Results</caption>\n",
       "<tr>\n",
       "  <th>Dep. Variable:</th>      <td>returns</td>     <th>  No. Observations:  </th>   <td>5020</td>   \n",
       "</tr>\n",
       "<tr>\n",
       "  <th>Model:</th>            <td>ARMA(6, 0)</td>    <th>  Log Likelihood     </th> <td>-7886.945</td>\n",
       "</tr>\n",
       "<tr>\n",
       "  <th>Method:</th>             <td>css-mle</td>     <th>  S.D. of innovations</th>   <td>1.164</td>  \n",
       "</tr>\n",
       "<tr>\n",
       "  <th>Date:</th>          <td>Wed, 06 Sep 2023</td> <th>  AIC                </th> <td>15789.890</td>\n",
       "</tr>\n",
       "<tr>\n",
       "  <th>Time:</th>              <td>14:37:53</td>     <th>  BIC                </th> <td>15842.059</td>\n",
       "</tr>\n",
       "<tr>\n",
       "  <th>Sample:</th>           <td>01-10-1994</td>    <th>  HQIC               </th> <td>15808.170</td>\n",
       "</tr>\n",
       "<tr>\n",
       "  <th></th>                 <td>- 04-05-2013</td>   <th>                     </th>     <td> </td>    \n",
       "</tr>\n",
       "</table>\n",
       "<table class=\"simpletable\">\n",
       "<tr>\n",
       "        <td></td>           <th>coef</th>     <th>std err</th>      <th>z</th>      <th>P>|z|</th>  <th>[0.025</th>    <th>0.975]</th>  \n",
       "</tr>\n",
       "<tr>\n",
       "  <th>const</th>         <td>    0.0189</td> <td>    0.013</td> <td>    1.414</td> <td> 0.157</td> <td>   -0.007</td> <td>    0.045</td>\n",
       "</tr>\n",
       "<tr>\n",
       "  <th>ar.L1.returns</th> <td>   -0.0245</td> <td>    0.014</td> <td>   -1.740</td> <td> 0.082</td> <td>   -0.052</td> <td>    0.003</td>\n",
       "</tr>\n",
       "<tr>\n",
       "  <th>ar.L2.returns</th> <td>   -0.0523</td> <td>    0.014</td> <td>   -3.716</td> <td> 0.000</td> <td>   -0.080</td> <td>   -0.025</td>\n",
       "</tr>\n",
       "<tr>\n",
       "  <th>ar.L3.returns</th> <td>   -0.0870</td> <td>    0.014</td> <td>   -6.174</td> <td> 0.000</td> <td>   -0.115</td> <td>   -0.059</td>\n",
       "</tr>\n",
       "<tr>\n",
       "  <th>ar.L4.returns</th> <td>    0.0424</td> <td>    0.014</td> <td>    3.009</td> <td> 0.003</td> <td>    0.015</td> <td>    0.070</td>\n",
       "</tr>\n",
       "<tr>\n",
       "  <th>ar.L5.returns</th> <td>   -0.0607</td> <td>    0.014</td> <td>   -4.309</td> <td> 0.000</td> <td>   -0.088</td> <td>   -0.033</td>\n",
       "</tr>\n",
       "<tr>\n",
       "  <th>ar.L6.returns</th> <td>   -0.0466</td> <td>    0.014</td> <td>   -3.302</td> <td> 0.001</td> <td>   -0.074</td> <td>   -0.019</td>\n",
       "</tr>\n",
       "</table>\n",
       "<table class=\"simpletable\">\n",
       "<caption>Roots</caption>\n",
       "<tr>\n",
       "    <td></td>   <th>            Real</th>  <th>         Imaginary</th> <th>         Modulus</th>  <th>        Frequency</th>\n",
       "</tr>\n",
       "<tr>\n",
       "  <th>AR.1</th> <td>           1.2869</td> <td>          -0.9022j</td> <td>           1.5716</td> <td>          -0.0973</td>\n",
       "</tr>\n",
       "<tr>\n",
       "  <th>AR.2</th> <td>           1.2869</td> <td>          +0.9022j</td> <td>           1.5716</td> <td>           0.0973</td>\n",
       "</tr>\n",
       "<tr>\n",
       "  <th>AR.3</th> <td>          -0.0727</td> <td>          -1.5282j</td> <td>           1.5299</td> <td>          -0.2576</td>\n",
       "</tr>\n",
       "<tr>\n",
       "  <th>AR.4</th> <td>          -0.0727</td> <td>          +1.5282j</td> <td>           1.5299</td> <td>           0.2576</td>\n",
       "</tr>\n",
       "<tr>\n",
       "  <th>AR.5</th> <td>          -1.8659</td> <td>          -0.4836j</td> <td>           1.9275</td> <td>          -0.4596</td>\n",
       "</tr>\n",
       "<tr>\n",
       "  <th>AR.6</th> <td>          -1.8659</td> <td>          +0.4836j</td> <td>           1.9275</td> <td>           0.4596</td>\n",
       "</tr>\n",
       "</table>"
      ],
      "text/plain": [
       "<class 'statsmodels.iolib.summary.Summary'>\n",
       "\"\"\"\n",
       "                              ARMA Model Results                              \n",
       "==============================================================================\n",
       "Dep. Variable:                returns   No. Observations:                 5020\n",
       "Model:                     ARMA(6, 0)   Log Likelihood               -7886.945\n",
       "Method:                       css-mle   S.D. of innovations              1.164\n",
       "Date:                Wed, 06 Sep 2023   AIC                          15789.890\n",
       "Time:                        14:37:53   BIC                          15842.059\n",
       "Sample:                    01-10-1994   HQIC                         15808.170\n",
       "                         - 04-05-2013                                         \n",
       "=================================================================================\n",
       "                    coef    std err          z      P>|z|      [0.025      0.975]\n",
       "---------------------------------------------------------------------------------\n",
       "const             0.0189      0.013      1.414      0.157      -0.007       0.045\n",
       "ar.L1.returns    -0.0245      0.014     -1.740      0.082      -0.052       0.003\n",
       "ar.L2.returns    -0.0523      0.014     -3.716      0.000      -0.080      -0.025\n",
       "ar.L3.returns    -0.0870      0.014     -6.174      0.000      -0.115      -0.059\n",
       "ar.L4.returns     0.0424      0.014      3.009      0.003       0.015       0.070\n",
       "ar.L5.returns    -0.0607      0.014     -4.309      0.000      -0.088      -0.033\n",
       "ar.L6.returns    -0.0466      0.014     -3.302      0.001      -0.074      -0.019\n",
       "                                    Roots                                    \n",
       "=============================================================================\n",
       "                  Real          Imaginary           Modulus         Frequency\n",
       "-----------------------------------------------------------------------------\n",
       "AR.1            1.2869           -0.9022j            1.5716           -0.0973\n",
       "AR.2            1.2869           +0.9022j            1.5716            0.0973\n",
       "AR.3           -0.0727           -1.5282j            1.5299           -0.2576\n",
       "AR.4           -0.0727           +1.5282j            1.5299            0.2576\n",
       "AR.5           -1.8659           -0.4836j            1.9275           -0.4596\n",
       "AR.6           -1.8659           +0.4836j            1.9275            0.4596\n",
       "-----------------------------------------------------------------------------\n",
       "\"\"\""
      ]
     },
     "execution_count": 40,
     "metadata": {},
     "output_type": "execute_result"
    }
   ],
   "source": [
    "model_ar6=ARMA(df.returns,order=(6,0))\n",
    "results_ar6=model_ar6.fit()\n",
    "results_ar6.summary()"
   ]
  },
  {
   "cell_type": "code",
   "execution_count": 42,
   "id": "06708d64",
   "metadata": {},
   "outputs": [
    {
     "data": {
      "text/plain": [
       "0.001"
      ]
     },
     "execution_count": 42,
     "metadata": {},
     "output_type": "execute_result"
    }
   ],
   "source": [
    "LLR_test(model_ar5,model_ar6)"
   ]
  },
  {
   "cell_type": "code",
   "execution_count": 43,
   "id": "57bb88d9",
   "metadata": {},
   "outputs": [
    {
     "data": {
      "text/html": [
       "<table class=\"simpletable\">\n",
       "<caption>ARMA Model Results</caption>\n",
       "<tr>\n",
       "  <th>Dep. Variable:</th>      <td>returns</td>     <th>  No. Observations:  </th>   <td>5020</td>   \n",
       "</tr>\n",
       "<tr>\n",
       "  <th>Model:</th>            <td>ARMA(7, 0)</td>    <th>  Log Likelihood     </th> <td>-7886.647</td>\n",
       "</tr>\n",
       "<tr>\n",
       "  <th>Method:</th>             <td>css-mle</td>     <th>  S.D. of innovations</th>   <td>1.164</td>  \n",
       "</tr>\n",
       "<tr>\n",
       "  <th>Date:</th>          <td>Wed, 06 Sep 2023</td> <th>  AIC                </th> <td>15791.294</td>\n",
       "</tr>\n",
       "<tr>\n",
       "  <th>Time:</th>              <td>14:38:36</td>     <th>  BIC                </th> <td>15849.985</td>\n",
       "</tr>\n",
       "<tr>\n",
       "  <th>Sample:</th>           <td>01-10-1994</td>    <th>  HQIC               </th> <td>15811.860</td>\n",
       "</tr>\n",
       "<tr>\n",
       "  <th></th>                 <td>- 04-05-2013</td>   <th>                     </th>     <td> </td>    \n",
       "</tr>\n",
       "</table>\n",
       "<table class=\"simpletable\">\n",
       "<tr>\n",
       "        <td></td>           <th>coef</th>     <th>std err</th>      <th>z</th>      <th>P>|z|</th>  <th>[0.025</th>    <th>0.975]</th>  \n",
       "</tr>\n",
       "<tr>\n",
       "  <th>const</th>         <td>    0.0189</td> <td>    0.014</td> <td>    1.399</td> <td> 0.162</td> <td>   -0.008</td> <td>    0.045</td>\n",
       "</tr>\n",
       "<tr>\n",
       "  <th>ar.L1.returns</th> <td>   -0.0240</td> <td>    0.014</td> <td>   -1.702</td> <td> 0.089</td> <td>   -0.052</td> <td>    0.004</td>\n",
       "</tr>\n",
       "<tr>\n",
       "  <th>ar.L2.returns</th> <td>   -0.0517</td> <td>    0.014</td> <td>   -3.663</td> <td> 0.000</td> <td>   -0.079</td> <td>   -0.024</td>\n",
       "</tr>\n",
       "<tr>\n",
       "  <th>ar.L3.returns</th> <td>   -0.0874</td> <td>    0.014</td> <td>   -6.202</td> <td> 0.000</td> <td>   -0.115</td> <td>   -0.060</td>\n",
       "</tr>\n",
       "<tr>\n",
       "  <th>ar.L4.returns</th> <td>    0.0433</td> <td>    0.014</td> <td>    3.064</td> <td> 0.002</td> <td>    0.016</td> <td>    0.071</td>\n",
       "</tr>\n",
       "<tr>\n",
       "  <th>ar.L5.returns</th> <td>   -0.0601</td> <td>    0.014</td> <td>   -4.263</td> <td> 0.000</td> <td>   -0.088</td> <td>   -0.032</td>\n",
       "</tr>\n",
       "<tr>\n",
       "  <th>ar.L6.returns</th> <td>   -0.0463</td> <td>    0.014</td> <td>   -3.282</td> <td> 0.001</td> <td>   -0.074</td> <td>   -0.019</td>\n",
       "</tr>\n",
       "<tr>\n",
       "  <th>ar.L7.returns</th> <td>    0.0109</td> <td>    0.014</td> <td>    0.772</td> <td> 0.440</td> <td>   -0.017</td> <td>    0.039</td>\n",
       "</tr>\n",
       "</table>\n",
       "<table class=\"simpletable\">\n",
       "<caption>Roots</caption>\n",
       "<tr>\n",
       "    <td></td>   <th>            Real</th>  <th>         Imaginary</th> <th>         Modulus</th>  <th>        Frequency</th>\n",
       "</tr>\n",
       "<tr>\n",
       "  <th>AR.1</th> <td>          -1.6490</td> <td>          -0.5384j</td> <td>           1.7347</td> <td>          -0.4498</td>\n",
       "</tr>\n",
       "<tr>\n",
       "  <th>AR.2</th> <td>          -1.6490</td> <td>          +0.5384j</td> <td>           1.7347</td> <td>           0.4498</td>\n",
       "</tr>\n",
       "<tr>\n",
       "  <th>AR.3</th> <td>          -0.1189</td> <td>          -1.4954j</td> <td>           1.5001</td> <td>          -0.2626</td>\n",
       "</tr>\n",
       "<tr>\n",
       "  <th>AR.4</th> <td>          -0.1189</td> <td>          +1.4954j</td> <td>           1.5001</td> <td>           0.2626</td>\n",
       "</tr>\n",
       "<tr>\n",
       "  <th>AR.5</th> <td>           1.2790</td> <td>          -0.9786j</td> <td>           1.6105</td> <td>          -0.1039</td>\n",
       "</tr>\n",
       "<tr>\n",
       "  <th>AR.6</th> <td>           1.2790</td> <td>          +0.9786j</td> <td>           1.6105</td> <td>           0.1039</td>\n",
       "</tr>\n",
       "<tr>\n",
       "  <th>AR.7</th> <td>           5.2269</td> <td>          -0.0000j</td> <td>           5.2269</td> <td>          -0.0000</td>\n",
       "</tr>\n",
       "</table>"
      ],
      "text/plain": [
       "<class 'statsmodels.iolib.summary.Summary'>\n",
       "\"\"\"\n",
       "                              ARMA Model Results                              \n",
       "==============================================================================\n",
       "Dep. Variable:                returns   No. Observations:                 5020\n",
       "Model:                     ARMA(7, 0)   Log Likelihood               -7886.647\n",
       "Method:                       css-mle   S.D. of innovations              1.164\n",
       "Date:                Wed, 06 Sep 2023   AIC                          15791.294\n",
       "Time:                        14:38:36   BIC                          15849.985\n",
       "Sample:                    01-10-1994   HQIC                         15811.860\n",
       "                         - 04-05-2013                                         \n",
       "=================================================================================\n",
       "                    coef    std err          z      P>|z|      [0.025      0.975]\n",
       "---------------------------------------------------------------------------------\n",
       "const             0.0189      0.014      1.399      0.162      -0.008       0.045\n",
       "ar.L1.returns    -0.0240      0.014     -1.702      0.089      -0.052       0.004\n",
       "ar.L2.returns    -0.0517      0.014     -3.663      0.000      -0.079      -0.024\n",
       "ar.L3.returns    -0.0874      0.014     -6.202      0.000      -0.115      -0.060\n",
       "ar.L4.returns     0.0433      0.014      3.064      0.002       0.016       0.071\n",
       "ar.L5.returns    -0.0601      0.014     -4.263      0.000      -0.088      -0.032\n",
       "ar.L6.returns    -0.0463      0.014     -3.282      0.001      -0.074      -0.019\n",
       "ar.L7.returns     0.0109      0.014      0.772      0.440      -0.017       0.039\n",
       "                                    Roots                                    \n",
       "=============================================================================\n",
       "                  Real          Imaginary           Modulus         Frequency\n",
       "-----------------------------------------------------------------------------\n",
       "AR.1           -1.6490           -0.5384j            1.7347           -0.4498\n",
       "AR.2           -1.6490           +0.5384j            1.7347            0.4498\n",
       "AR.3           -0.1189           -1.4954j            1.5001           -0.2626\n",
       "AR.4           -0.1189           +1.4954j            1.5001            0.2626\n",
       "AR.5            1.2790           -0.9786j            1.6105           -0.1039\n",
       "AR.6            1.2790           +0.9786j            1.6105            0.1039\n",
       "AR.7            5.2269           -0.0000j            5.2269           -0.0000\n",
       "-----------------------------------------------------------------------------\n",
       "\"\"\""
      ]
     },
     "execution_count": 43,
     "metadata": {},
     "output_type": "execute_result"
    }
   ],
   "source": [
    "model_ar7=ARMA(df.returns,order=(7,0))\n",
    "results_ar7=model_ar7.fit()\n",
    "results_ar7.summary()"
   ]
  },
  {
   "cell_type": "code",
   "execution_count": 44,
   "id": "b62f7e04",
   "metadata": {},
   "outputs": [
    {
     "data": {
      "text/plain": [
       "0.44"
      ]
     },
     "execution_count": 44,
     "metadata": {},
     "output_type": "execute_result"
    }
   ],
   "source": [
    "LLR_test(model_ar6,model_ar7) #there is no improvement"
   ]
  },
  {
   "cell_type": "markdown",
   "id": "d8244722",
   "metadata": {},
   "source": [
    "# Analysis the Residuals"
   ]
  },
  {
   "cell_type": "code",
   "execution_count": 45,
   "id": "0e7f51aa",
   "metadata": {},
   "outputs": [],
   "source": [
    "df[\"res_ret\"]=results_ar6.resid"
   ]
  },
  {
   "cell_type": "code",
   "execution_count": 46,
   "id": "21343cce",
   "metadata": {},
   "outputs": [
    {
     "data": {
      "text/plain": [
       "-5.3735243268991316e-05"
      ]
     },
     "execution_count": 46,
     "metadata": {},
     "output_type": "execute_result"
    }
   ],
   "source": [
    "df.res_ret.mean() #mean is almost zero "
   ]
  },
  {
   "cell_type": "code",
   "execution_count": 47,
   "id": "6ac91a93",
   "metadata": {},
   "outputs": [
    {
     "data": {
      "text/plain": [
       "1.3559802110697527"
      ]
     },
     "execution_count": 47,
     "metadata": {},
     "output_type": "execute_result"
    }
   ],
   "source": [
    "df.res_ret.var()"
   ]
  },
  {
   "cell_type": "markdown",
   "id": "8b9f6048",
   "metadata": {},
   "source": [
    "# Residuals must be stationary"
   ]
  },
  {
   "cell_type": "code",
   "execution_count": 48,
   "id": "fc52d8fd",
   "metadata": {},
   "outputs": [
    {
     "data": {
      "text/plain": [
       "(-70.78380136715367,\n",
       " 0.0,\n",
       " 0,\n",
       " 5019,\n",
       " {'1%': -3.4316535759402753,\n",
       "  '5%': -2.8621160400844468,\n",
       "  '10%': -2.567076626752987},\n",
       " 15692.570834134782)"
      ]
     },
     "execution_count": 48,
     "metadata": {},
     "output_type": "execute_result"
    }
   ],
   "source": [
    "sts.adfuller(df.res_ret) #p value 0 means residual is stationary and there is no variance"
   ]
  },
  {
   "cell_type": "markdown",
   "id": "7d6a551e",
   "metadata": {},
   "source": [
    "# No autocorrelation between residual"
   ]
  },
  {
   "cell_type": "code",
   "execution_count": 49,
   "id": "125e957e",
   "metadata": {},
   "outputs": [
    {
     "data": {
      "image/png": "[encoded data removed]",
      "text/plain": [
       "<Figure size 432x288 with 1 Axes>"
      ]
     },
     "metadata": {},
     "output_type": "display_data"
    }
   ],
   "source": [
    "sgt.plot_acf(df.res_ret,zero=False,lags=40)\n",
    "plt.title(\"ACF of Residuals for Returns\",size=24)\n",
    "plt.show()\n",
    "\n",
    "# as we can see 1stly 10 15 lags there is no autocorrelation"
   ]
  },
  {
   "cell_type": "markdown",
   "id": "2e653897",
   "metadata": {},
   "source": [
    "# Residuals must be random"
   ]
  },
  {
   "cell_type": "code",
   "execution_count": 51,
   "id": "702dafd8",
   "metadata": {},
   "outputs": [
    {
     "data": {
      "image/png": "[encoded data removed]",
      "text/plain": [
       "<Figure size 1440x360 with 1 Axes>"
      ]
     },
     "metadata": {},
     "output_type": "display_data"
    }
   ],
   "source": [
    "df.res_ret.plot(figsize=(20,5))\n",
    "plt.title(\"Residuals of Returns\",size=24)\n",
    "plt.show()\n",
    "\n",
    "#residual is random there is no pattern"
   ]
  },
  {
   "cell_type": "code",
   "execution_count": null,
   "id": "cdfb6a62",
   "metadata": {},
   "outputs": [],
   "source": [
    "from statsmodels.tsa.ar_model import AutoReg\n",
    "model_AR = AutoReg(train, lags=20)\n",
    "model_fit = model_AR.fit()\n",
    "\n",
    "predictions_AR = model_fit.predict(start=len(train), end=len(train)+len(test)-1, dynamic=False)\n",
    "rmse_predicted_AR = np.sqrt(np.abs((test-predictions_AR)**2)).mean()\n",
    "print(\"rmse value for AR Mdel:\", rmse_predicted_AR)\n",
    "\n",
    "plt.figure(figsize = (10,5))\n",
    "predictions_AR.plot()\n",
    "test.plot()\n",
    "plt.legend(['predicted', 'actual'])\n",
    "plt.show()"
   ]
  }
 ],
 "metadata": {
  "kernelspec": {
   "display_name": "Python 3 (ipykernel)",
   "language": "python",
   "name": "python3"
  },
  "language_info": {
   "codemirror_mode": {
    "name": "ipython",
    "version": 3
   },
   "file_extension": ".py",
   "mimetype": "text/x-python",
   "name": "python",
   "nbconvert_exporter": "python",
   "pygments_lexer": "ipython3",
   "version": "3.11.4"
  }
 },
 "nbformat": 4,
 "nbformat_minor": 5
}
