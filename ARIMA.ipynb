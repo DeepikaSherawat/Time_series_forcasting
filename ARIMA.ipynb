{
 "cells": [
  {
   "cell_type": "code",
   "execution_count": 5,
   "id": "d7216ed9",
   "metadata": {},
   "outputs": [],
   "source": [
    "import pandas as pd\n",
    "import numpy as np\n",
    "import matplotlib.pyplot as plt\n",
    "import seaborn as sns\n",
    "sns.set()\n",
    "import warnings\n",
    "warnings.filterwarnings(\"ignore\")"
   ]
  },
  {
   "cell_type": "markdown",
   "id": "4fbbf051",
   "metadata": {},
   "source": [
    "# Augmented Dickey Fuller Test"
   ]
  },
  {
   "cell_type": "code",
   "execution_count": 32,
   "id": "bb76b225",
   "metadata": {},
   "outputs": [],
   "source": [
    "from statsmodels.tsa.stattools import adfuller\n",
    "\n",
    "def adf_test(series):\n",
    "    result=adfuller(series.dropna())\n",
    "    labels=[\"ADF test statistic\",\"p-value\",\"#lags used\",\"# observations\"]\n",
    "    out=pd.Series(result[0:4],index=labels)\n",
    "    #for key,val in result{4}.items():\n",
    "    #out {f'critical value{{key}}'}=val\n",
    "    if result[1]<=0.05:\n",
    "        print(\"Reject the Null Hypothesis\")\n",
    "        print(\"Data is Sattionary\")\n",
    "    else:\n",
    "        print(\"Fail to reject the Null Hypothesis\")\n",
    "        print(\"Data is Non-Sattionary\")\n",
    "        "
   ]
  },
  {
   "cell_type": "code",
   "execution_count": 24,
   "id": "19ea4362",
   "metadata": {},
   "outputs": [
    {
     "data": {
      "text/html": [
       "<div>\n",
       "<style scoped>\n",
       "    .dataframe tbody tr th:only-of-type {\n",
       "        vertical-align: middle;\n",
       "    }\n",
       "\n",
       "    .dataframe tbody tr th {\n",
       "        vertical-align: top;\n",
       "    }\n",
       "\n",
       "    .dataframe thead th {\n",
       "        text-align: right;\n",
       "    }\n",
       "</style>\n",
       "<table border=\"1\" class=\"dataframe\">\n",
       "  <thead>\n",
       "    <tr style=\"text-align: right;\">\n",
       "      <th></th>\n",
       "      <th>INVCMRMT</th>\n",
       "    </tr>\n",
       "    <tr>\n",
       "      <th>DATE</th>\n",
       "      <th></th>\n",
       "    </tr>\n",
       "  </thead>\n",
       "  <tbody>\n",
       "    <tr>\n",
       "      <th>1997-01-01</th>\n",
       "      <td>1301161.0</td>\n",
       "    </tr>\n",
       "    <tr>\n",
       "      <th>1997-02-01</th>\n",
       "      <td>1307080.0</td>\n",
       "    </tr>\n",
       "    <tr>\n",
       "      <th>1997-03-01</th>\n",
       "      <td>1303978.0</td>\n",
       "    </tr>\n",
       "    <tr>\n",
       "      <th>1997-04-01</th>\n",
       "      <td>1319740.0</td>\n",
       "    </tr>\n",
       "    <tr>\n",
       "      <th>1997-05-01</th>\n",
       "      <td>1327294.0</td>\n",
       "    </tr>\n",
       "    <tr>\n",
       "      <th>...</th>\n",
       "      <td>...</td>\n",
       "    </tr>\n",
       "    <tr>\n",
       "      <th>2020-03-01</th>\n",
       "      <td>2192351.0</td>\n",
       "    </tr>\n",
       "    <tr>\n",
       "      <th>2020-04-01</th>\n",
       "      <td>2178236.0</td>\n",
       "    </tr>\n",
       "    <tr>\n",
       "      <th>2020-05-01</th>\n",
       "      <td>2144828.0</td>\n",
       "    </tr>\n",
       "    <tr>\n",
       "      <th>2020-06-01</th>\n",
       "      <td>2125810.0</td>\n",
       "    </tr>\n",
       "    <tr>\n",
       "      <th>2020-07-01</th>\n",
       "      <td>2121991.0</td>\n",
       "    </tr>\n",
       "  </tbody>\n",
       "</table>\n",
       "<p>283 rows × 1 columns</p>\n",
       "</div>"
      ],
      "text/plain": [
       "             INVCMRMT\n",
       "DATE                 \n",
       "1997-01-01  1301161.0\n",
       "1997-02-01  1307080.0\n",
       "1997-03-01  1303978.0\n",
       "1997-04-01  1319740.0\n",
       "1997-05-01  1327294.0\n",
       "...               ...\n",
       "2020-03-01  2192351.0\n",
       "2020-04-01  2178236.0\n",
       "2020-05-01  2144828.0\n",
       "2020-06-01  2125810.0\n",
       "2020-07-01  2121991.0\n",
       "\n",
       "[283 rows x 1 columns]"
      ]
     },
     "execution_count": 24,
     "metadata": {},
     "output_type": "execute_result"
    }
   ],
   "source": [
    "df2=pd.read_csv(\"INVCMRMT (1).csv\",index_col=\"DATE\",parse_dates=True)\n",
    "df2.index.freq=\"MS\"\n",
    "df2"
   ]
  },
  {
   "cell_type": "markdown",
   "id": "f867a727",
   "metadata": {},
   "source": [
    "# EDA\n"
   ]
  },
  {
   "cell_type": "code",
   "execution_count": 28,
   "id": "dfca2242",
   "metadata": {},
   "outputs": [
    {
     "data": {
      "image/png": "[encoded data removed]",
      "text/plain": [
       "<Figure size 432x288 with 1 Axes>"
      ]
     },
     "metadata": {},
     "output_type": "display_data"
    }
   ],
   "source": [
    "df2[\"INVCMRMT\"].plot()\n",
    "plt.show()"
   ]
  },
  {
   "cell_type": "markdown",
   "id": "564cb41c",
   "metadata": {},
   "source": [
    "# Run an ETS Decomposition(optional)"
   ]
  },
  {
   "cell_type": "code",
   "execution_count": 26,
   "id": "31f0cc69",
   "metadata": {},
   "outputs": [],
   "source": [
    "#from stats models.tsa.seasonal import seasonal_decompose\n",
    "\n",
    "#result=seasonal_decompose(df2[\"INVCMRMT\"],model=\"additive\") #model=\"add\"also works\n",
    "#result.plot()"
   ]
  },
  {
   "cell_type": "markdown",
   "id": "217ce432",
   "metadata": {},
   "source": [
    "# Check Stationarity using Dickey-Fuller Test"
   ]
  },
  {
   "cell_type": "code",
   "execution_count": 33,
   "id": "db269677",
   "metadata": {},
   "outputs": [
    {
     "name": "stdout",
     "output_type": "stream",
     "text": [
      "Fail to reject the Null Hypothesis\n",
      "Data is Non-Sattionary\n"
     ]
    }
   ],
   "source": [
    "adf_test(df2[\"INVCMRMT\"])"
   ]
  },
  {
   "cell_type": "code",
   "execution_count": 41,
   "id": "3387aabd",
   "metadata": {},
   "outputs": [
    {
     "name": "stdout",
     "output_type": "stream",
     "text": [
      "Reject the Null Hypothesis\n",
      "Data is Sattionary\n"
     ]
    }
   ],
   "source": [
    "from statsmodels.tsa.statespace.tools import diff\n",
    "df2[\"d1\"]=diff(df2[\"INVCMRMT\"],k_diff=1)\n",
    "adf_test(df2[\"d1\"])"
   ]
  },
  {
   "cell_type": "code",
   "execution_count": 42,
   "id": "d7df6623",
   "metadata": {},
   "outputs": [
    {
     "data": {
      "text/plain": [
       "283"
      ]
     },
     "execution_count": 42,
     "metadata": {},
     "output_type": "execute_result"
    }
   ],
   "source": [
    "len(df2)"
   ]
  },
  {
   "cell_type": "code",
   "execution_count": 43,
   "id": "b5d8bfd6",
   "metadata": {},
   "outputs": [],
   "source": [
    "train=df2.iloc[:252]\n",
    "test=df2.iloc[252:]"
   ]
  },
  {
   "cell_type": "markdown",
   "id": "c7ca148a",
   "metadata": {},
   "source": [
    "# Fit an ARIMA(1,1,1) Model"
   ]
  },
  {
   "cell_type": "code",
   "execution_count": 44,
   "id": "fd522bc4",
   "metadata": {},
   "outputs": [],
   "source": [
    "from statsmodels.tsa.arima_model import ARIMA"
   ]
  },
  {
   "cell_type": "code",
   "execution_count": 39,
   "id": "4c9a7077",
   "metadata": {},
   "outputs": [
    {
     "data": {
      "text/html": [
       "<table class=\"simpletable\">\n",
       "<caption>ARIMA Model Results</caption>\n",
       "<tr>\n",
       "  <th>Dep. Variable:</th>    <td>D.INVCMRMT</td>    <th>  No. Observations:  </th>    <td>251</td>   \n",
       "</tr>\n",
       "<tr>\n",
       "  <th>Model:</th>          <td>ARIMA(1, 1, 1)</td>  <th>  Log Likelihood     </th> <td>-2485.905</td>\n",
       "</tr>\n",
       "<tr>\n",
       "  <th>Method:</th>             <td>css-mle</td>     <th>  S.D. of innovations</th> <td>4835.548</td> \n",
       "</tr>\n",
       "<tr>\n",
       "  <th>Date:</th>          <td>Wed, 06 Sep 2023</td> <th>  AIC                </th> <td>4979.810</td> \n",
       "</tr>\n",
       "<tr>\n",
       "  <th>Time:</th>              <td>16:15:01</td>     <th>  BIC                </th> <td>4993.912</td> \n",
       "</tr>\n",
       "<tr>\n",
       "  <th>Sample:</th>           <td>02-01-1997</td>    <th>  HQIC               </th> <td>4985.485</td> \n",
       "</tr>\n",
       "<tr>\n",
       "  <th></th>                 <td>- 12-01-2017</td>   <th>                     </th>     <td> </td>    \n",
       "</tr>\n",
       "</table>\n",
       "<table class=\"simpletable\">\n",
       "<tr>\n",
       "          <td></td>            <th>coef</th>     <th>std err</th>      <th>z</th>      <th>P>|z|</th>  <th>[0.025</th>    <th>0.975]</th>  \n",
       "</tr>\n",
       "<tr>\n",
       "  <th>const</th>            <td> 3168.2236</td> <td> 1344.661</td> <td>    2.356</td> <td> 0.018</td> <td>  532.737</td> <td> 5803.710</td>\n",
       "</tr>\n",
       "<tr>\n",
       "  <th>ar.L1.D.INVCMRMT</th> <td>    0.9015</td> <td>    0.039</td> <td>   22.891</td> <td> 0.000</td> <td>    0.824</td> <td>    0.979</td>\n",
       "</tr>\n",
       "<tr>\n",
       "  <th>ma.L1.D.INVCMRMT</th> <td>   -0.5524</td> <td>    0.079</td> <td>   -6.954</td> <td> 0.000</td> <td>   -0.708</td> <td>   -0.397</td>\n",
       "</tr>\n",
       "</table>\n",
       "<table class=\"simpletable\">\n",
       "<caption>Roots</caption>\n",
       "<tr>\n",
       "    <td></td>   <th>            Real</th>  <th>         Imaginary</th> <th>         Modulus</th>  <th>        Frequency</th>\n",
       "</tr>\n",
       "<tr>\n",
       "  <th>AR.1</th> <td>           1.1093</td> <td>          +0.0000j</td> <td>           1.1093</td> <td>           0.0000</td>\n",
       "</tr>\n",
       "<tr>\n",
       "  <th>MA.1</th> <td>           1.8101</td> <td>          +0.0000j</td> <td>           1.8101</td> <td>           0.0000</td>\n",
       "</tr>\n",
       "</table>"
      ],
      "text/plain": [
       "<class 'statsmodels.iolib.summary.Summary'>\n",
       "\"\"\"\n",
       "                             ARIMA Model Results                              \n",
       "==============================================================================\n",
       "Dep. Variable:             D.INVCMRMT   No. Observations:                  251\n",
       "Model:                 ARIMA(1, 1, 1)   Log Likelihood               -2485.905\n",
       "Method:                       css-mle   S.D. of innovations           4835.548\n",
       "Date:                Wed, 06 Sep 2023   AIC                           4979.810\n",
       "Time:                        16:15:01   BIC                           4993.912\n",
       "Sample:                    02-01-1997   HQIC                          4985.485\n",
       "                         - 12-01-2017                                         \n",
       "====================================================================================\n",
       "                       coef    std err          z      P>|z|      [0.025      0.975]\n",
       "------------------------------------------------------------------------------------\n",
       "const             3168.2236   1344.661      2.356      0.018     532.737    5803.710\n",
       "ar.L1.D.INVCMRMT     0.9015      0.039     22.891      0.000       0.824       0.979\n",
       "ma.L1.D.INVCMRMT    -0.5524      0.079     -6.954      0.000      -0.708      -0.397\n",
       "                                    Roots                                    \n",
       "=============================================================================\n",
       "                  Real          Imaginary           Modulus         Frequency\n",
       "-----------------------------------------------------------------------------\n",
       "AR.1            1.1093           +0.0000j            1.1093            0.0000\n",
       "MA.1            1.8101           +0.0000j            1.8101            0.0000\n",
       "-----------------------------------------------------------------------------\n",
       "\"\"\""
      ]
     },
     "execution_count": 39,
     "metadata": {},
     "output_type": "execute_result"
    }
   ],
   "source": [
    "model=ARIMA(train[\"INVCMRMT\"],order=(1,1,1))\n",
    "results=model.fit()\n",
    "results.summary()"
   ]
  },
  {
   "cell_type": "markdown",
   "id": "7bbc7355",
   "metadata": {},
   "source": [
    "# Use model to predict"
   ]
  },
  {
   "cell_type": "code",
   "execution_count": 46,
   "id": "3fa91473",
   "metadata": {},
   "outputs": [],
   "source": [
    "# obtain predicted values\n",
    "start=len(train)\n",
    "end=len(df2)-1\n",
    "predictions=results.predict(start=start,end=end,dynamic=False,typ=\"levels\")\n",
    "predictions=predictions.rename(\"ARIMA(1,1,1) Predictions\")"
   ]
  },
  {
   "cell_type": "code",
   "execution_count": 47,
   "id": "95df055b",
   "metadata": {},
   "outputs": [
    {
     "ename": "SyntaxError",
     "evalue": "f-string: unmatched '[' (Temp/ipykernel_1200/2688155685.py, line 3)",
     "output_type": "error",
     "traceback": [
      "\u001b[1;36m  File \u001b[1;32m\"C:\\Users\\DEEPIK~1\\AppData\\Local\\Temp/ipykernel_1200/2688155685.py\"\u001b[1;36m, line \u001b[1;32m3\u001b[0m\n\u001b[1;33m    print(f\"predicted={round(predictions[i])},expected={test[\"INVCMRMT\"][i]}\")\u001b[0m\n\u001b[1;37m                                                              ^\u001b[0m\n\u001b[1;31mSyntaxError\u001b[0m\u001b[1;31m:\u001b[0m f-string: unmatched '['\n"
     ]
    }
   ],
   "source": [
    "#compare prediction to expected values\n",
    "for i in range(len(predictions)):\n",
    "    print(f\"predicted={round(predictions[i])},expected={test[\"INVCMRMT\"][i]}\")"
   ]
  },
  {
   "cell_type": "code",
   "execution_count": null,
   "id": "a2c188dc",
   "metadata": {},
   "outputs": [],
   "source": []
  }
 ],
 "metadata": {
  "kernelspec": {
   "display_name": "Python 3 (ipykernel)",
   "language": "python",
   "name": "python3"
  },
  "language_info": {
   "codemirror_mode": {
    "name": "ipython",
    "version": 3
   },
   "file_extension": ".py",
   "mimetype": "text/x-python",
   "name": "python",
   "nbconvert_exporter": "python",
   "pygments_lexer": "ipython3",
   "version": "3.11.4"
  }
 },
 "nbformat": 4,
 "nbformat_minor": 5
}
